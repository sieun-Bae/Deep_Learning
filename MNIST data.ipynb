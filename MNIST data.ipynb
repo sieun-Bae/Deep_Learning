{
  "nbformat": 4,
  "nbformat_minor": 0,
  "metadata": {
    "colab": {
      "name": "BSE-Assignment1.ipynb",
      "provenance": [],
      "collapsed_sections": [],
      "include_colab_link": true
    },
    "kernelspec": {
      "name": "python3",
      "display_name": "Python 3"
    },
    "accelerator": "GPU"
  },
  "cells": [
    {
      "cell_type": "markdown",
      "metadata": {
        "id": "view-in-github",
        "colab_type": "text"
      },
      "source": [
        "<a href=\"https://colab.research.google.com/github/sieun-Bae/Deep_Learning/blob/master/MNIST%20data.ipynb\" target=\"_parent\"><img src=\"https://colab.research.google.com/assets/colab-badge.svg\" alt=\"Open In Colab\"/></a>"
      ]
    },
    {
      "cell_type": "markdown",
      "metadata": {
        "id": "gA0oPkQYeCI5",
        "colab_type": "text"
      },
      "source": [
        "\n",
        "\n",
        "### Instructions ###\n",
        "Before you start working on this assignment:\n",
        "1.   Please choose \"File -> Save a copy in Drive...\" and then work with the copied file in your Drive. THIS FILE IS <u>NOT</u> EDITABLE.\n",
        "2.   The copied file should be loaded automatically, otherwise, open it from your Google Drive's Colab Notebooks folder. The file should be called \"Copy of Assignment1.ipynb\"\n",
        "3.   If you do not see the header menus (File, Edit, View, etc.) click on the arrow beside \"Editing\" on the top right of the file.\n",
        "4.   Change the filename to your_initial/student_number-Assignment1.ipynb (e.g. GN-Assignment1.ipynb).\n",
        "5.   Connect to a remote host and Change Runtime's Hardware Accelarator type to GPU.\n",
        "\n",
        "\n",
        "\n",
        "\n"
      ]
    },
    {
      "cell_type": "markdown",
      "metadata": {
        "id": "IvENkq0LxHEE",
        "colab_type": "text"
      },
      "source": [
        "### Import libraries"
      ]
    },
    {
      "cell_type": "code",
      "metadata": {
        "id": "GtRbwhqPwl0j",
        "colab_type": "code",
        "colab": {}
      },
      "source": [
        "import tensorflow as tf\n",
        "from tensorflow import keras"
      ],
      "execution_count": 0,
      "outputs": []
    },
    {
      "cell_type": "markdown",
      "metadata": {
        "id": "HenRkAlhxNB6",
        "colab_type": "text"
      },
      "source": [
        "### Q1. Load the MNIST data which is available in tf.keras API into training and test sets."
      ]
    },
    {
      "cell_type": "code",
      "metadata": {
        "id": "XvSCBzZYxhNy",
        "colab_type": "code",
        "colab": {}
      },
      "source": [
        "mnist = keras.datasets.mnist\n",
        "(train_images, train_labels), (test_images, test_labels) = mnist.load_data()"
      ],
      "execution_count": 0,
      "outputs": []
    },
    {
      "cell_type": "markdown",
      "metadata": {
        "id": "sTj22-4UyBsy",
        "colab_type": "text"
      },
      "source": [
        "### Q2. View the first image in the training set and see its pixel values, class category and graphical representation\n",
        "\n"
      ]
    },
    {
      "cell_type": "code",
      "metadata": {
        "id": "IcSEItfYyGu1",
        "colab_type": "code",
        "outputId": "4e693ac9-efb7-495a-82e6-d0ff49490547",
        "colab": {
          "base_uri": "https://localhost:8080/",
          "height": 303
        }
      },
      "source": [
        "import matplotlib.pyplot as plt\n",
        "\n",
        "print(train_labels[0])\n",
        "plt.imshow(train_images[0])"
      ],
      "execution_count": 29,
      "outputs": [
        {
          "output_type": "stream",
          "text": [
            "5\n"
          ],
          "name": "stdout"
        },
        {
          "output_type": "execute_result",
          "data": {
            "text/plain": [
              "<matplotlib.image.AxesImage at 0x7f0e81074be0>"
            ]
          },
          "metadata": {
            "tags": []
          },
          "execution_count": 29
        },
        {
          "output_type": "display_data",
          "data": {
            "image/png": "[encoded data removed]",
            "text/plain": [
              "<Figure size 432x288 with 1 Axes>"
            ]
          },
          "metadata": {
            "tags": []
          }
        }
      ]
    },
    {
      "cell_type": "markdown",
      "metadata": {
        "id": "kOojUllXzOK1",
        "colab_type": "text"
      },
      "source": [
        "### What is the class label of the first image in the training set?\n",
        "\n",
        "```\n",
        "5\n",
        "```\n"
      ]
    },
    {
      "cell_type": "markdown",
      "metadata": {
        "id": "NyNid-cPT9h1",
        "colab_type": "text"
      },
      "source": [
        "### Q3. The images are 28 by 28 in greyscale. Enter any modifications that you would make to the images in the code cell below. Leave it blank if you think no modifications are necessary."
      ]
    },
    {
      "cell_type": "code",
      "metadata": {
        "id": "uPEc-k24zgfF",
        "colab_type": "code",
        "colab": {}
      },
      "source": [
        "# greyscale, nolmalize the data to get the value between 0 to 1. \n",
        "train_images = train_images / 255.0\n",
        "test_images = test_images / 255.0"
      ],
      "execution_count": 0,
      "outputs": []
    },
    {
      "cell_type": "markdown",
      "metadata": {
        "id": "55zZMlBW7I6e",
        "colab_type": "text"
      },
      "source": [
        "### Q4. Define a neural network using the Sequential() method in keras. Decide how the input, output and hidden layers should be configured."
      ]
    },
    {
      "cell_type": "code",
      "metadata": {
        "id": "Rc9y7K-v0438",
        "colab_type": "code",
        "colab": {}
      },
      "source": [
        "#flatten the input data, and the number of categories is 10, so the output layer should get 10 neurons.\n",
        "#choosed relu and softmax function \n",
        "model = keras.Sequential([\n",
        "    keras.layers.Flatten(input_shape = (28,28)), #input layer\n",
        "    keras.layers.Dense(256, activation = tf.nn.relu), #hidden layer\n",
        "    keras.layers.Dense(10, activation = tf.nn.softmax) #output layer\n",
        "])"
      ],
      "execution_count": 0,
      "outputs": []
    },
    {
      "cell_type": "markdown",
      "metadata": {
        "id": "XD2gPgGU1mil",
        "colab_type": "text"
      },
      "source": [
        "### Q5. Compile the model you defined with a suitable loss function and optimiser within model.compile().\n"
      ]
    },
    {
      "cell_type": "code",
      "metadata": {
        "id": "Q4SZyfM610q-",
        "colab_type": "code",
        "colab": {}
      },
      "source": [
        "model.compile(optimizer = tf.train.AdamOptimizer(),\n",
        "             loss= 'sparse_categorical_crossentropy',\n",
        "             metrics = ['accuracy'])"
      ],
      "execution_count": 0,
      "outputs": []
    },
    {
      "cell_type": "markdown",
      "metadata": {
        "id": "rKY-K4AfznqL",
        "colab_type": "text"
      },
      "source": [
        "### Ensure that training stops when 99% level of accuracy is reached with an exit message “Reached 99% accuracy, stopping”. Write a method that will stop training when this level of accuracy is reached.  "
      ]
    },
    {
      "cell_type": "code",
      "metadata": {
        "id": "HSDnt-uX4EzE",
        "colab_type": "code",
        "colab": {}
      },
      "source": [
        "class myCallback(tf.keras.callbacks.Callback):\n",
        "  def on_epoch_end(self, epoch, logs={}):\n",
        "    if(logs.get('acc')>=0.99):\n",
        "      print('\\nReached 99% accuracy, stopping.')\n",
        "      self.model.stop_training = True"
      ],
      "execution_count": 0,
      "outputs": []
    },
    {
      "cell_type": "markdown",
      "metadata": {
        "id": "aYKtQJv_ZrD5",
        "colab_type": "text"
      },
      "source": [
        "### Q6. Train your model using model.fit() keeping in mind that training shoukd stop when 99% accuracy is reached, otherwise it should stop after 10 iterations."
      ]
    },
    {
      "cell_type": "code",
      "metadata": {
        "id": "4bDOZL38Z9fK",
        "colab_type": "code",
        "outputId": "cc063a46-52cd-45a5-b02f-60daad3a3b5d",
        "colab": {
          "base_uri": "https://localhost:8080/",
          "height": 272
        }
      },
      "source": [
        "callbacks = myCallback()\n",
        "model.fit(train_images, train_labels, epochs = 10, callbacks = [callbacks])"
      ],
      "execution_count": 34,
      "outputs": [
        {
          "output_type": "stream",
          "text": [
            "Epoch 1/10\n",
            "60000/60000 [==============================] - 6s 93us/sample - loss: 0.2283 - acc: 0.9331\n",
            "Epoch 2/10\n",
            "60000/60000 [==============================] - 5s 90us/sample - loss: 0.0941 - acc: 0.9711\n",
            "Epoch 3/10\n",
            "60000/60000 [==============================] - 6s 92us/sample - loss: 0.0622 - acc: 0.9814\n",
            "Epoch 4/10\n",
            "60000/60000 [==============================] - 5s 90us/sample - loss: 0.0439 - acc: 0.9863\n",
            "Epoch 5/10\n",
            "60000/60000 [==============================] - 5s 90us/sample - loss: 0.0334 - acc: 0.9897\n",
            "Epoch 6/10\n",
            "59520/60000 [============================>.] - ETA: 0s - loss: 0.0258 - acc: 0.9914\n",
            "Reached 99% accuracy, stopping.\n",
            "60000/60000 [==============================] - 5s 90us/sample - loss: 0.0258 - acc: 0.9914\n"
          ],
          "name": "stdout"
        },
        {
          "output_type": "execute_result",
          "data": {
            "text/plain": [
              "<tensorflow.python.keras.callbacks.History at 0x7f0e32e4db70>"
            ]
          },
          "metadata": {
            "tags": []
          },
          "execution_count": 34
        }
      ]
    },
    {
      "cell_type": "markdown",
      "metadata": {
        "id": "6DcG0n1R5k9R",
        "colab_type": "text"
      },
      "source": [
        "### Q7. Were you able to train a network to achieve 99% accuracy within 10 iterations? If yes, what were the design choices you made in order for this level to be achieved?\n",
        "\n",
        "```\n",
        "Yes.\n",
        "I set 256 neurons in hidden layer, relu, softmax functions to set up model.\n",
        "Also I compiled with Adamoptimizer, and sparse categorical crossentropy loss function.\n",
        "```\n"
      ]
    },
    {
      "cell_type": "markdown",
      "metadata": {
        "id": "qzkQ-sdS3G2f",
        "colab_type": "text"
      },
      "source": [
        "### Q8. Evaluate your model’s performance on the test set.\n"
      ]
    },
    {
      "cell_type": "code",
      "metadata": {
        "id": "otEjlHFp4ggq",
        "colab_type": "code",
        "outputId": "bee0e9ea-cc72-4a86-fc7b-e3c5f10931aa",
        "colab": {
          "base_uri": "https://localhost:8080/",
          "height": 51
        }
      },
      "source": [
        "model.evaluate(test_images, test_labels)"
      ],
      "execution_count": 35,
      "outputs": [
        {
          "output_type": "stream",
          "text": [
            "10000/10000 [==============================] - 1s 69us/sample - loss: 0.0707 - acc: 0.9803\n"
          ],
          "name": "stdout"
        },
        {
          "output_type": "execute_result",
          "data": {
            "text/plain": [
              "[0.07065145837523741, 0.9803]"
            ]
          },
          "metadata": {
            "tags": []
          },
          "execution_count": 35
        }
      ]
    },
    {
      "cell_type": "markdown",
      "metadata": {
        "id": "YNxdLsr7TB9t",
        "colab_type": "text"
      },
      "source": [
        "### Q9. How many images are contained in the training set and how many in the test set?\n",
        "\n",
        "```\n",
        "Training set: 60,000 images\n",
        "Test set: 10,000 images\n",
        "```\n"
      ]
    },
    {
      "cell_type": "code",
      "metadata": {
        "id": "TWztLGPyCnSH",
        "colab_type": "code",
        "outputId": "465b640d-8a92-4ccb-9c3c-ea557166924f",
        "colab": {
          "base_uri": "https://localhost:8080/",
          "height": 51
        }
      },
      "source": [
        "print(len(train_images))\n",
        "print(len(test_images))"
      ],
      "execution_count": 36,
      "outputs": [
        {
          "output_type": "stream",
          "text": [
            "60000\n",
            "10000\n"
          ],
          "name": "stdout"
        }
      ]
    },
    {
      "cell_type": "markdown",
      "metadata": {
        "id": "PsnBFkbH8d5m",
        "colab_type": "text"
      },
      "source": [
        "### Q10. Remove any hidden layers from your neural network (comment out the code for the hidden layer(s) for now) so your model should only have one input layer and one output layer. Retrain the model. Can the neural network still classify these hand-written digits? Explain if it would be better to add hidden layer(s) or not for this image classification problem.\n",
        "\n",
        "```\n",
        "NN without hidden layer \"can\" still classify hand written digits with loss: 0.2659 / acc: 0.9279.\n",
        "However if we train the model by adding hidden layer(s), it will perform much better than the previous one, e.g. adding one hidden layer with 256 neurons with relu activation function, loss: 0.0711 / acc: 0.9813\n",
        "```\n"
      ]
    },
    {
      "cell_type": "code",
      "metadata": {
        "id": "uWsOD-0HDViN",
        "colab_type": "code",
        "colab": {}
      },
      "source": [
        "#model which is descripted below is trained without hidden layer. \n",
        "model = keras.Sequential([\n",
        "    keras.layers.Flatten(input_shape = (28,28)), #input layer\n",
        "    keras.layers.Dense(10, activation = tf.nn.softmax) #output layer\n",
        "])"
      ],
      "execution_count": 0,
      "outputs": []
    },
    {
      "cell_type": "code",
      "metadata": {
        "id": "r9YujOA3DVlM",
        "colab_type": "code",
        "colab": {}
      },
      "source": [
        "model.compile(optimizer = tf.train.AdamOptimizer(),\n",
        "             loss= 'sparse_categorical_crossentropy',\n",
        "             metrics = ['accuracy'])"
      ],
      "execution_count": 0,
      "outputs": []
    },
    {
      "cell_type": "code",
      "metadata": {
        "id": "K7JOfUQqFLLe",
        "colab_type": "code",
        "outputId": "2a4fa765-bfd8-49eb-9e41-0a9985510d6a",
        "colab": {
          "base_uri": "https://localhost:8080/",
          "height": 374
        }
      },
      "source": [
        "callbacks = myCallback()\n",
        "model.fit(train_images, train_labels, epochs = 10, callbacks = [callbacks])"
      ],
      "execution_count": 39,
      "outputs": [
        {
          "output_type": "stream",
          "text": [
            "Epoch 1/10\n",
            "60000/60000 [==============================] - 5s 83us/sample - loss: 0.4658 - acc: 0.8785\n",
            "Epoch 2/10\n",
            "60000/60000 [==============================] - 5s 82us/sample - loss: 0.3030 - acc: 0.9157\n",
            "Epoch 3/10\n",
            "60000/60000 [==============================] - 5s 83us/sample - loss: 0.2838 - acc: 0.9207\n",
            "Epoch 4/10\n",
            "60000/60000 [==============================] - 5s 83us/sample - loss: 0.2729 - acc: 0.9234\n",
            "Epoch 5/10\n",
            "60000/60000 [==============================] - 5s 79us/sample - loss: 0.2666 - acc: 0.9256\n",
            "Epoch 6/10\n",
            "60000/60000 [==============================] - 5s 84us/sample - loss: 0.2620 - acc: 0.9269\n",
            "Epoch 7/10\n",
            "60000/60000 [==============================] - 5s 79us/sample - loss: 0.2586 - acc: 0.9286\n",
            "Epoch 8/10\n",
            "60000/60000 [==============================] - 5s 82us/sample - loss: 0.2555 - acc: 0.9288\n",
            "Epoch 9/10\n",
            "60000/60000 [==============================] - 5s 82us/sample - loss: 0.2530 - acc: 0.9298\n",
            "Epoch 10/10\n",
            "60000/60000 [==============================] - 5s 83us/sample - loss: 0.2507 - acc: 0.9312\n"
          ],
          "name": "stdout"
        },
        {
          "output_type": "execute_result",
          "data": {
            "text/plain": [
              "<tensorflow.python.keras.callbacks.History at 0x7f0e32ca0278>"
            ]
          },
          "metadata": {
            "tags": []
          },
          "execution_count": 39
        }
      ]
    },
    {
      "cell_type": "code",
      "metadata": {
        "id": "8lM6JkEkFoXp",
        "colab_type": "code",
        "outputId": "0dd9a0b3-b8c7-4cf3-8846-9db4569c6f25",
        "colab": {
          "base_uri": "https://localhost:8080/",
          "height": 51
        }
      },
      "source": [
        "model.evaluate(test_images, test_labels)"
      ],
      "execution_count": 40,
      "outputs": [
        {
          "output_type": "stream",
          "text": [
            "10000/10000 [==============================] - 1s 63us/sample - loss: 0.2688 - acc: 0.9249\n"
          ],
          "name": "stdout"
        },
        {
          "output_type": "execute_result",
          "data": {
            "text/plain": [
              "[0.2688058203756809, 0.9249]"
            ]
          },
          "metadata": {
            "tags": []
          },
          "execution_count": 40
        }
      ]
    },
    {
      "cell_type": "code",
      "metadata": {
        "id": "Q0a9I8kNCVUa",
        "colab_type": "code",
        "colab": {
          "base_uri": "https://localhost:8080/",
          "height": 68
        },
        "outputId": "b0f9a8ea-f1de-4cbe-b2bc-69134ff2a0e3"
      },
      "source": [
        "classification = model.predict(test_images)\n",
        "print(classification[0])\n",
        "max(classification[0])"
      ],
      "execution_count": 41,
      "outputs": [
        {
          "output_type": "stream",
          "text": [
            "[3.9377440e-07 1.5019110e-12 1.2570055e-06 3.4324678e-03 1.9239705e-07\n",
            " 2.4299474e-05 4.0433429e-12 9.9631268e-01 8.9747773e-06 2.1971711e-04]\n"
          ],
          "name": "stdout"
        },
        {
          "output_type": "execute_result",
          "data": {
            "text/plain": [
              "0.9963127"
            ]
          },
          "metadata": {
            "tags": []
          },
          "execution_count": 41
        }
      ]
    },
    {
      "cell_type": "code",
      "metadata": {
        "id": "jFv-YJTfFlhb",
        "colab_type": "code",
        "colab": {
          "base_uri": "https://localhost:8080/",
          "height": 34
        },
        "outputId": "a9ee823e-ffc0-4afd-89aa-2812b35c60b1"
      },
      "source": [
        "print(test_labels[0])"
      ],
      "execution_count": 42,
      "outputs": [
        {
          "output_type": "stream",
          "text": [
            "7\n"
          ],
          "name": "stdout"
        }
      ]
    },
    {
      "cell_type": "markdown",
      "metadata": {
        "id": "dHKKN_QjcJBR",
        "colab_type": "text"
      },
      "source": [
        "*Please restore your neural network to what it was up to Q7, i.e. with an accuracy of 99%, save your file and submit it via iCampus Assignment interface.*"
      ]
    }
  ]
}