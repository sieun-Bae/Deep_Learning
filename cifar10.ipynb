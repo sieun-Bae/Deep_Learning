{
  "nbformat": 4,
  "nbformat_minor": 0,
  "metadata": {
    "colab": {
      "name": "BSE-Quiz1.ipynb",
      "provenance": [],
      "collapsed_sections": [],
      "include_colab_link": true
    },
    "kernelspec": {
      "name": "python3",
      "display_name": "Python 3"
    },
    "accelerator": "GPU"
  },
  "cells": [
    {
      "cell_type": "markdown",
      "metadata": {
        "id": "view-in-github",
        "colab_type": "text"
      },
      "source": [
        "<a href=\"https://colab.research.google.com/github/sieun-Bae/deep-learning/blob/master/cifar10.ipynb\" target=\"_parent\"><img src=\"https://colab.research.google.com/assets/colab-badge.svg\" alt=\"Open In Colab\"/></a>"
      ]
    },
    {
      "cell_type": "markdown",
      "metadata": {
        "id": "v0LCPTO2sFO4",
        "colab_type": "text"
      },
      "source": [
        "## Quiz 1\n",
        "\n",
        "### NAME: Bae Sieun / 2016310153 / comedu \n",
        "### Instructions\n",
        "Before you start working on this assignment:\n",
        "\n",
        "1.   Please choose \"File -> Save a copy in Drive...\" and then work with the copied file in your Drive. THIS FILE IS NOT EDITABLE.\n",
        "2.   The copied file should be loaded automatically, otherwise, open it from your Google Drive's Colab Notebooks folder. The file should be called \"Copy of Quiz.ipynb\"\n",
        "3.   If you do not see the header menus (File, Edit, View, etc.) click on the arrow beside \"Editing\" on the top right of the file.\n",
        "4.   Change the filename to your_initial/student_number-Quiz1.ipynb (e.g. GN-Quiz1.ipynb).\n",
        "5.   Connect to a remote host and Change Runtime's Hardware Accelarator type to GPU.\n",
        "6.   **Ensure that each code cell can run WITHOUT ERRORS before proceeding to the next question.** Code cells that do not run will likely get half or less marks allocated for that question and if it is connected to the next question's code, the marks for that question will also be affected.\n",
        "7.   You may have to download the Python Notebook (File-->Download .ipynb) to your computer before submitting it as an attachment on iCampus.\n",
        "\n",
        "**In the course you learned how to do classification using Fashion MNIST and MNIST datasets. There's another, similar dataset called CIFAR10 which has items of handwriting -- the digits 0 through 9.**\n"
      ]
    },
    {
      "cell_type": "markdown",
      "metadata": {
        "id": "IvENkq0LxHEE",
        "colab_type": "text"
      },
      "source": [
        "### Import libraries"
      ]
    },
    {
      "cell_type": "code",
      "metadata": {
        "id": "GtRbwhqPwl0j",
        "colab_type": "code",
        "colab": {}
      },
      "source": [
        "import tensorflow as tf\n",
        "from tensorflow import keras"
      ],
      "execution_count": 0,
      "outputs": []
    },
    {
      "cell_type": "markdown",
      "metadata": {
        "id": "HenRkAlhxNB6",
        "colab_type": "text"
      },
      "source": [
        "### Q1. Load the CIFAR10 data which is available in tf.keras.dataset into training and test sets. [3 marks]"
      ]
    },
    {
      "cell_type": "code",
      "metadata": {
        "id": "XvSCBzZYxhNy",
        "colab_type": "code",
        "colab": {}
      },
      "source": [
        "# Enter your code here\n",
        "cifar10 = keras.datasets.cifar10\n",
        "(train_images, train_labels), (test_images, test_labels) = cifar10.load_data()"
      ],
      "execution_count": 0,
      "outputs": []
    },
    {
      "cell_type": "markdown",
      "metadata": {
        "colab_type": "text",
        "id": "16KDHmaSuNnM"
      },
      "source": [
        "### Q2. Inspect the shape of the training and test sets [5 marks]\n",
        "Print out the shape of the training and test sets by using the shape command. For example, if your training set is called train_images, then train_images.shape should return the size and dimensions of this dataset. "
      ]
    },
    {
      "cell_type": "code",
      "metadata": {
        "colab_type": "code",
        "id": "3LlF8T2ouUFN",
        "colab": {
          "base_uri": "https://localhost:8080/",
          "height": 51
        },
        "outputId": "c4a113a9-5232-42c8-e5d3-666ef0ecfbb2"
      },
      "source": [
        "# Enter your code here\n",
        "print(train_images.shape)\n",
        "print(test_images.shape)"
      ],
      "execution_count": 25,
      "outputs": [
        {
          "output_type": "stream",
          "text": [
            "(50000, 32, 32, 3)\n",
            "(10000, 32, 32, 3)\n"
          ],
          "name": "stdout"
        }
      ]
    },
    {
      "cell_type": "markdown",
      "metadata": {
        "id": "kOojUllXzOK1",
        "colab_type": "text"
      },
      "source": [
        "\n",
        "### How many images are there in the training set?\n",
        "\n",
        "```\n",
        "50000\n",
        "```\n",
        "\n",
        "### How many images are there in the test set?\n",
        "\n",
        "```\n",
        "10000\n",
        "```\n",
        "\n",
        "### What are the dimensions of the images (height, width and #colour_channels)?\n",
        "\n",
        "```\n",
        "height: 32, width: 32, color_channels: 3\n",
        "```\n"
      ]
    },
    {
      "cell_type": "markdown",
      "metadata": {
        "id": "NyNid-cPT9h1",
        "colab_type": "text"
      },
      "source": [
        "### Q3. Reshape the images so that they can be passed into a convolutional layer as a single tensor. [4 marks]"
      ]
    },
    {
      "cell_type": "code",
      "metadata": {
        "colab_type": "code",
        "id": "stfEIqKRwzSI",
        "colab": {}
      },
      "source": [
        "# Enter your code here\n",
        "training_images = train_images.reshape(50000, 32, 32, 3)\n",
        "test_images = test_images.reshape(10000, 32, 32, 3)"
      ],
      "execution_count": 0,
      "outputs": []
    },
    {
      "cell_type": "markdown",
      "metadata": {
        "id": "55zZMlBW7I6e",
        "colab_type": "text"
      },
      "source": [
        "### Q4. Normalise your images so that their values are between 0 and 1. [2 marks]\n",
        "\n",
        "This code should only be run ONCE every time you load the images. Multiple runs of this code on a single load might cause your image pixel values to become even smaller. If you want to run this code again then please reload your data and reshape it first (run Q1 and Q3)."
      ]
    },
    {
      "cell_type": "code",
      "metadata": {
        "colab_type": "code",
        "id": "fhmZVcBsySEC",
        "colab": {}
      },
      "source": [
        "# Enter your code here\n",
        "train_images = train_images/255.0\n",
        "test_images = test_images/255.0"
      ],
      "execution_count": 0,
      "outputs": []
    },
    {
      "cell_type": "markdown",
      "metadata": {
        "colab_type": "text",
        "id": "6WQft4GFyT_n"
      },
      "source": [
        "### Q5. Define a neural network using the Sequential() method in keras. It should have one convolutional layer (CONV) followed by a pooling layer (POOL) followed by a flatten (FLATTEN) layer, a hidden layer (HIDDEN) and an output layer (OUTPUT). You must use only 1 convolutional layer. Recommended hyperparameters: number of filters to use: 32 OR 64; filter size: 3x3; number of units in hidden layer: 256 OR 512. [10 marks]\n"
      ]
    },
    {
      "cell_type": "code",
      "metadata": {
        "colab_type": "code",
        "id": "p64CJWIlynnf",
        "colab": {}
      },
      "source": [
        "model = tf.keras.models.Sequential([\n",
        "    keras.layers.Conv2D(64, (3,3), activation='relu', input_shape=(32,32,3)),\n",
        "    keras.layers.MaxPooling2D(2,2),\n",
        "    keras.layers.Flatten(),\n",
        "    keras.layers.Dense(512, activation='relu'),\n",
        "    keras.layers.Dense(10, activation = 'softmax')\n",
        "       ])\n"
      ],
      "execution_count": 0,
      "outputs": []
    },
    {
      "cell_type": "markdown",
      "metadata": {
        "id": "XD2gPgGU1mil",
        "colab_type": "text"
      },
      "source": [
        "### Q6. Compile the model you defined with a suitable loss function and optimiser within model.compile(). [3 marks]\n"
      ]
    },
    {
      "cell_type": "code",
      "metadata": {
        "colab_type": "code",
        "id": "Ot4z2lGr0vAB",
        "colab": {}
      },
      "source": [
        "# Enter your code here\n",
        "model.compile(optimizer='adam', loss='sparse_categorical_crossentropy',metrics=['accuracy'])\n"
      ],
      "execution_count": 0,
      "outputs": []
    },
    {
      "cell_type": "markdown",
      "metadata": {
        "id": "RAXdiyFw05A4",
        "colab_type": "text"
      },
      "source": [
        "### Q7. Write a callback class that will stop the training when accuracy is more than 90%. Create an instance of this class. [5 marks]"
      ]
    },
    {
      "cell_type": "code",
      "metadata": {
        "colab_type": "code",
        "id": "q5nc-uKL08iG",
        "colab": {}
      },
      "source": [
        "class myCallback(tf.keras.callbacks.Callback):\n",
        "  def on_epoch_end(self, epoch, logs={}):\n",
        "    if(logs.get('acc')>=0.9):\n",
        "      print('\\nReached 90% accuracy, stopping.')\n",
        "      self.model.stop_training = True\n",
        "\n",
        "callbacks = myCallback()"
      ],
      "execution_count": 0,
      "outputs": []
    },
    {
      "cell_type": "markdown",
      "metadata": {
        "colab_type": "text",
        "id": "Nt3Rq1rx1MsQ"
      },
      "source": [
        "### Q8. Train your model using model.fit() keeping in mind that training should stop when 90% accuracy is reached, otherwise it should stop after 10 iterations. [4 marks]\n",
        "You must use only 1 convolutional layer. Recommended hyperparameters: number of filters to use: 32, 64 and number of units in hidden layer: 256, 512."
      ]
    },
    {
      "cell_type": "code",
      "metadata": {
        "colab_type": "code",
        "id": "FJDxtaNp1kkv",
        "colab": {
          "base_uri": "https://localhost:8080/",
          "height": 323
        },
        "outputId": "c9c065dc-6af0-4df8-f83c-f9bd42970a32"
      },
      "source": [
        "# Enter your code here\n",
        "model.fit(train_images, train_labels, epochs = 10, callbacks=[callbacks])\n"
      ],
      "execution_count": 31,
      "outputs": [
        {
          "output_type": "stream",
          "text": [
            "Train on 50000 samples\n",
            "Epoch 1/10\n",
            "50000/50000 [==============================] - 14s 284us/sample - loss: 1.3666 - acc: 0.5154\n",
            "Epoch 2/10\n",
            "50000/50000 [==============================] - 14s 280us/sample - loss: 1.0409 - acc: 0.6352\n",
            "Epoch 3/10\n",
            "50000/50000 [==============================] - 14s 283us/sample - loss: 0.8595 - acc: 0.6996\n",
            "Epoch 4/10\n",
            "50000/50000 [==============================] - 14s 279us/sample - loss: 0.6977 - acc: 0.7560\n",
            "Epoch 5/10\n",
            "50000/50000 [==============================] - 14s 277us/sample - loss: 0.5374 - acc: 0.8107\n",
            "Epoch 6/10\n",
            "50000/50000 [==============================] - 14s 279us/sample - loss: 0.4029 - acc: 0.8607\n",
            "Epoch 7/10\n",
            "49888/50000 [============================>.] - ETA: 0s - loss: 0.2898 - acc: 0.9011\n",
            "Reached 90% accuracy, stopping.\n",
            "50000/50000 [==============================] - 14s 283us/sample - loss: 0.2900 - acc: 0.9010\n"
          ],
          "name": "stdout"
        },
        {
          "output_type": "execute_result",
          "data": {
            "text/plain": [
              "<tensorflow.python.keras.callbacks.History at 0x7f874017efd0>"
            ]
          },
          "metadata": {
            "tags": []
          },
          "execution_count": 31
        }
      ]
    },
    {
      "cell_type": "code",
      "metadata": {
        "id": "DxkWIIz-T0vP",
        "colab_type": "code",
        "colab": {
          "base_uri": "https://localhost:8080/",
          "height": 51
        },
        "outputId": "5a2a9dfb-ac6e-4abf-bd4d-a4ab97106530"
      },
      "source": [
        "model.evaluate(test_images, test_labels)"
      ],
      "execution_count": 33,
      "outputs": [
        {
          "output_type": "stream",
          "text": [
            "10000/10000 [==============================] - 1s 148us/sample - loss: 1.2708 - acc: 0.6575\n"
          ],
          "name": "stdout"
        },
        {
          "output_type": "execute_result",
          "data": {
            "text/plain": [
              "[1.270765444087982, 0.6575]"
            ]
          },
          "metadata": {
            "tags": []
          },
          "execution_count": 33
        }
      ]
    },
    {
      "cell_type": "markdown",
      "metadata": {
        "colab_type": "text",
        "id": "4ralO-iKJIue"
      },
      "source": [
        "### Q9. Which combination of number of filters in convolutional layer and number of units in the hidden layer of the fully connected layer gave you the accuracy of 90% within 10 iterations? [4 marks]\n",
        "\n",
        "### Number of filters:\n",
        "```\n",
        "64\n",
        "```\n",
        "\n",
        "### Number of units in the hidden layer:\n",
        "```\n",
        "512\n",
        "```\n"
      ]
    },
    {
      "cell_type": "markdown",
      "metadata": {
        "colab_type": "text",
        "id": "yixOOWQLLmOg"
      },
      "source": [
        "### Q10. Among the layers that you have defined, (CONV, POOL, FLATTEN, HIDDEN, OUTPUT), which ones have parameters (weights and biases) that have to be learned by the neural network? You may work this out conceptually or by code. [5 marks]\n",
        "\n",
        "```\n",
        "CONV layer, HIDDEN, OUTPUT layer.\n",
        "CONV layer has 1792 params, which is the result of (3*(3*3)+1)*64\n",
        "HIDDEN layer has 7373312 params, which is the result of (14400+1)*512\n",
        "OUTPUT layer has 5130 params, which is the result of (512+1)*10\n",
        "```\n"
      ]
    },
    {
      "cell_type": "code",
      "metadata": {
        "id": "nJAO4gR4UCpO",
        "colab_type": "code",
        "colab": {
          "base_uri": "https://localhost:8080/",
          "height": 323
        },
        "outputId": "428d31d9-b4ca-4018-aece-e1cfdaad4495"
      },
      "source": [
        "model.summary()"
      ],
      "execution_count": 34,
      "outputs": [
        {
          "output_type": "stream",
          "text": [
            "Model: \"sequential_1\"\n",
            "_________________________________________________________________\n",
            "Layer (type)                 Output Shape              Param #   \n",
            "=================================================================\n",
            "conv2d_1 (Conv2D)            (None, 30, 30, 64)        1792      \n",
            "_________________________________________________________________\n",
            "max_pooling2d_1 (MaxPooling2 (None, 15, 15, 64)        0         \n",
            "_________________________________________________________________\n",
            "flatten_1 (Flatten)          (None, 14400)             0         \n",
            "_________________________________________________________________\n",
            "dense_2 (Dense)              (None, 512)               7373312   \n",
            "_________________________________________________________________\n",
            "dense_3 (Dense)              (None, 10)                5130      \n",
            "=================================================================\n",
            "Total params: 7,380,234\n",
            "Trainable params: 7,380,234\n",
            "Non-trainable params: 0\n",
            "_________________________________________________________________\n"
          ],
          "name": "stdout"
        }
      ]
    },
    {
      "cell_type": "markdown",
      "metadata": {
        "id": "KGzlf3vFMTr8",
        "colab_type": "text"
      },
      "source": [
        "### Q11. Based on the performance of your model on the test set, what would you do to improve the performance of your model on unseen data? You may use the code cell below to change your model’s hyper parameters, recompile and fit to evaluate its performance on the training and test sets. [5 marks]\n",
        "\n",
        "```\n",
        "I add extra Convolution layer with 64 filter, relu activation function to make the model deeper.\n",
        "Also, by making the if statement 0.9 to 0.95 accuracy of myCallback method, epochs stop when it reaches more than 0.95.\n",
        "\n",
        "Accuracy is higher in the second model\n",
        "\n",
        "0.6575 -> 0.7022 \n",
        "```\n",
        "\n"
      ]
    },
    {
      "cell_type": "code",
      "metadata": {
        "id": "qTzigLFXXZ4Z",
        "colab_type": "code",
        "colab": {
          "base_uri": "https://localhost:8080/",
          "height": 442
        },
        "outputId": "64bf750b-ab81-44b6-a007-48d53651b6cb"
      },
      "source": [
        "class myCallback(tf.keras.callbacks.Callback):\n",
        "  def on_epoch_end(self, epoch, logs={}):\n",
        "    if(logs.get('acc')>=0.95):\n",
        "      print('\\nReached 90% accuracy, stopping.')\n",
        "      self.model.stop_training = True\n",
        "\n",
        "callbacks = myCallback()\n",
        "model = tf.keras.models.Sequential([\n",
        "    tf.keras.layers.Conv2D(64, (3,3), activation='relu', input_shape=(32,32,3)),\n",
        "    tf.keras.layers.MaxPooling2D(2,2),\n",
        "    tf.keras.layers.Conv2D(64, (3,3), activation='relu'),\n",
        "    tf.keras.layers.MaxPooling2D(2,2),\n",
        "    tf.keras.layers.Flatten(),\n",
        "    tf.keras.layers.Dense(512, activation='relu'),\n",
        "    tf.keras.layers.Dense(10, activation = 'softmax')\n",
        "       ])\n",
        "\n",
        "model.compile(optimizer='adam',loss='sparse_categorical_crossentropy', metrics=['accuracy'])\n",
        "model.fit(train_images, train_labels, epochs=10, callbacks=[callbacks])\n",
        "model.evaluate(test_images, test_labels)"
      ],
      "execution_count": 39,
      "outputs": [
        {
          "output_type": "stream",
          "text": [
            "Train on 50000 samples\n",
            "Epoch 1/10\n",
            "50000/50000 [==============================] - 13s 262us/sample - loss: 1.3599 - acc: 0.5125\n",
            "Epoch 2/10\n",
            "50000/50000 [==============================] - 13s 256us/sample - loss: 0.9706 - acc: 0.6597\n",
            "Epoch 3/10\n",
            "50000/50000 [==============================] - 13s 255us/sample - loss: 0.7918 - acc: 0.7237\n",
            "Epoch 4/10\n",
            "50000/50000 [==============================] - 13s 251us/sample - loss: 0.6444 - acc: 0.7741\n",
            "Epoch 5/10\n",
            "50000/50000 [==============================] - 13s 251us/sample - loss: 0.5047 - acc: 0.8216\n",
            "Epoch 6/10\n",
            "50000/50000 [==============================] - 12s 249us/sample - loss: 0.3773 - acc: 0.8682\n",
            "Epoch 7/10\n",
            "50000/50000 [==============================] - 13s 251us/sample - loss: 0.2749 - acc: 0.9049\n",
            "Epoch 8/10\n",
            "50000/50000 [==============================] - 13s 254us/sample - loss: 0.2013 - acc: 0.9304\n",
            "Epoch 9/10\n",
            "50000/50000 [==============================] - 13s 252us/sample - loss: 0.1474 - acc: 0.9485\n",
            "Epoch 10/10\n",
            "49920/50000 [============================>.] - ETA: 0s - loss: 0.1211 - acc: 0.9571\n",
            "Reached 90% accuracy, stopping.\n",
            "50000/50000 [==============================] - 12s 247us/sample - loss: 0.1211 - acc: 0.9571\n",
            "10000/10000 [==============================] - 1s 138us/sample - loss: 1.5710 - acc: 0.7022\n"
          ],
          "name": "stdout"
        },
        {
          "output_type": "execute_result",
          "data": {
            "text/plain": [
              "[1.5709547877311707, 0.7022]"
            ]
          },
          "metadata": {
            "tags": []
          },
          "execution_count": 39
        }
      ]
    },
    {
      "cell_type": "markdown",
      "metadata": {
        "id": "iteV2r-ZYLbY",
        "colab_type": "text"
      },
      "source": [
        "### Q12. A neural network has input in the shape of 22x22x3 and passed to a convolutional layer (CONV) with 10 filters of size 3x3 and then passed to a fully connected layer that has a flatten layer (FLATTEN), a hidden layer with 100 neurons (DENSE1) and finally an output layer with 10 neurons (DENSE2). What are the number of parameters in each layer? Show all workings. [10 marks]\n",
        "\n",
        "```\n",
        "CONV: num_filters*(num_inputs*filter_size+1)\n",
        "= 10*(3*(3*3)+1) = 280\n",
        "\n",
        "FLATTEN: 0\n",
        "\n",
        "DENSE1: num_neurons*(num_inputs+1)\n",
        "= 100*(20*20*10+1) = 400100\n",
        "\n",
        "DENSE2: num_neurons*(num_inputs+1)\n",
        "= 10*(100+1) = 1010\n",
        "\n",
        "```"
      ]
    },
    {
      "cell_type": "code",
      "metadata": {
        "id": "ReXztYZTXh4J",
        "colab_type": "code",
        "colab": {}
      },
      "source": [
        "m = keras.models.Sequential([\n",
        "    keras.layers.Conv2D(10,(3,3),activation='relu',input_shape=(22,22,3)),\n",
        "    keras.layers.Flatten(),\n",
        "    keras.layers.Dense(100,activation='relu'),\n",
        "    keras.layers.Dense(10,activation='softmax')\n",
        "])"
      ],
      "execution_count": 0,
      "outputs": []
    },
    {
      "cell_type": "code",
      "metadata": {
        "id": "646uABBVbrbA",
        "colab_type": "code",
        "colab": {
          "base_uri": "https://localhost:8080/",
          "height": 289
        },
        "outputId": "22cd5578-2cf1-4fef-f1ea-f63d3e42c3cc"
      },
      "source": [
        "m.summary()"
      ],
      "execution_count": 41,
      "outputs": [
        {
          "output_type": "stream",
          "text": [
            "Model: \"sequential_4\"\n",
            "_________________________________________________________________\n",
            "Layer (type)                 Output Shape              Param #   \n",
            "=================================================================\n",
            "conv2d_8 (Conv2D)            (None, 20, 20, 10)        280       \n",
            "_________________________________________________________________\n",
            "flatten_4 (Flatten)          (None, 4000)              0         \n",
            "_________________________________________________________________\n",
            "dense_8 (Dense)              (None, 100)               400100    \n",
            "_________________________________________________________________\n",
            "dense_9 (Dense)              (None, 10)                1010      \n",
            "=================================================================\n",
            "Total params: 401,390\n",
            "Trainable params: 401,390\n",
            "Non-trainable params: 0\n",
            "_________________________________________________________________\n"
          ],
          "name": "stdout"
        }
      ]
    },
    {
      "cell_type": "code",
      "metadata": {
        "id": "if1diWIebsUI",
        "colab_type": "code",
        "colab": {}
      },
      "source": [
        ""
      ],
      "execution_count": 0,
      "outputs": []
    }
  ]
}