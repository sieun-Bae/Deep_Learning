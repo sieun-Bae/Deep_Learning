{
  "nbformat": 4,
  "nbformat_minor": 0,
  "metadata": {
    "colab": {
      "name": "(01)\"Hello World\" of NN.ipynb",
      "version": "0.3.2",
      "provenance": [],
      "include_colab_link": true
    },
    "kernelspec": {
      "name": "python3",
      "display_name": "Python 3"
    },
    "accelerator": "GPU"
  },
  "cells": [
    {
      "cell_type": "markdown",
      "metadata": {
        "id": "view-in-github",
        "colab_type": "text"
      },
      "source": [
        "<a href=\"https://colab.research.google.com/github/sieun-Bae/Deep_Learning/blob/master/(01)%22Hello_World%22_of_NN.ipynb\" target=\"_parent\"><img src=\"https://colab.research.google.com/assets/colab-badge.svg\" alt=\"Open In Colab\"/></a>"
      ]
    },
    {
      "cell_type": "markdown",
      "metadata": {
        "id": "V1sozObkCMMB",
        "colab_type": "text"
      },
      "source": [
        "#Lab 01. \"Hello World\" of Neural Networks"
      ]
    },
    {
      "cell_type": "code",
      "metadata": {
        "id": "sd8fWLGCCQvF",
        "colab_type": "code",
        "colab": {}
      },
      "source": [
        "import tensorflow as tf\n",
        "import numpy as np\n",
        "from tensorflow import keras"
      ],
      "execution_count": 0,
      "outputs": []
    },
    {
      "cell_type": "markdown",
      "metadata": {
        "id": "aATwQA5jE2E8",
        "colab_type": "text"
      },
      "source": [
        "##1 layer and 1 neuron and 1 input"
      ]
    },
    {
      "cell_type": "code",
      "metadata": {
        "id": "bZgOf-tzCbaS",
        "colab_type": "code",
        "colab": {
          "base_uri": "https://localhost:8080/",
          "height": 88
        },
        "outputId": "4b896d9f-451c-4d43-f775-1705bfd037fc"
      },
      "source": [
        "model = keras.Sequential([keras.layers.Dense(units=1, input_shape=[1])]) "
      ],
      "execution_count": 10,
      "outputs": [
        {
          "output_type": "stream",
          "text": [
            "WARNING:tensorflow:From /usr/local/lib/python3.6/dist-packages/tensorflow/python/ops/init_ops.py:1251: calling VarianceScaling.__init__ (from tensorflow.python.ops.init_ops) with dtype is deprecated and will be removed in a future version.\n",
            "Instructions for updating:\n",
            "Call initializer instance with the dtype argument instead of passing it to the constructor\n"
          ],
          "name": "stdout"
        }
      ]
    },
    {
      "cell_type": "code",
      "metadata": {
        "id": "ZimBhFJcDGUO",
        "colab_type": "code",
        "colab": {}
      },
      "source": [
        "model.compile(loss='mean_squared_error', optimizer='sgd')"
      ],
      "execution_count": 0,
      "outputs": []
    },
    {
      "cell_type": "markdown",
      "metadata": {
        "id": "X-BqioVJEyI2",
        "colab_type": "text"
      },
      "source": [
        "##Feeding data"
      ]
    },
    {
      "cell_type": "code",
      "metadata": {
        "id": "So7cam5WEE-A",
        "colab_type": "code",
        "colab": {}
      },
      "source": [
        "xs = np.array([-3.0, -1.0, 0.0, 1.0, 2.0, 4.0, 5.0, 7.0, 9.0, 10.0], dtype=float)"
      ],
      "execution_count": 0,
      "outputs": []
    },
    {
      "cell_type": "code",
      "metadata": {
        "id": "0iNsDlNUEa0L",
        "colab_type": "code",
        "colab": {}
      },
      "source": [
        "ys = np.array([-5.0, -1.0, 1.0, 3.0, 5.0, 9.0, 11.0, 15.0, 19.0, 21.0], dtype=float)"
      ],
      "execution_count": 0,
      "outputs": []
    },
    {
      "cell_type": "markdown",
      "metadata": {
        "id": "4voA6imIFa2Z",
        "colab_type": "text"
      },
      "source": [
        "##Fitting model"
      ]
    },
    {
      "cell_type": "code",
      "metadata": {
        "id": "_kLmHQ35EntB",
        "colab_type": "code",
        "colab": {
          "base_uri": "https://localhost:8080/",
          "height": 1000
        },
        "outputId": "0e44dba9-4a73-46df-e6a2-d2f41193ba00"
      },
      "source": [
        "model.fit(xs, ys, epochs=200) #1st trial: loss decreases 68.1077 to 0.0036"
      ],
      "execution_count": 16,
      "outputs": [
        {
          "output_type": "stream",
          "text": [
            "Epoch 1/200\n",
            "10/10 [==============================] - 0s 288us/sample - loss: 3.1132e-05\n",
            "Epoch 2/200\n",
            "10/10 [==============================] - 0s 405us/sample - loss: 3.0404e-05\n",
            "Epoch 3/200\n",
            "10/10 [==============================] - 0s 392us/sample - loss: 2.9694e-05\n",
            "Epoch 4/200\n",
            "10/10 [==============================] - 0s 308us/sample - loss: 2.9001e-05\n",
            "Epoch 5/200\n",
            "10/10 [==============================] - 0s 318us/sample - loss: 2.8324e-05\n",
            "Epoch 6/200\n",
            "10/10 [==============================] - 0s 381us/sample - loss: 2.7662e-05\n",
            "Epoch 7/200\n",
            "10/10 [==============================] - 0s 319us/sample - loss: 2.7015e-05\n",
            "Epoch 8/200\n",
            "10/10 [==============================] - 0s 327us/sample - loss: 2.6385e-05\n",
            "Epoch 9/200\n",
            "10/10 [==============================] - 0s 220us/sample - loss: 2.5768e-05\n",
            "Epoch 10/200\n",
            "10/10 [==============================] - 0s 162us/sample - loss: 2.5167e-05\n",
            "Epoch 11/200\n",
            "10/10 [==============================] - 0s 231us/sample - loss: 2.4579e-05\n",
            "Epoch 12/200\n",
            "10/10 [==============================] - 0s 182us/sample - loss: 2.4004e-05\n",
            "Epoch 13/200\n",
            "10/10 [==============================] - 0s 199us/sample - loss: 2.3445e-05\n",
            "Epoch 14/200\n",
            "10/10 [==============================] - 0s 204us/sample - loss: 2.2895e-05\n",
            "Epoch 15/200\n",
            "10/10 [==============================] - 0s 189us/sample - loss: 2.2362e-05\n",
            "Epoch 16/200\n",
            "10/10 [==============================] - 0s 227us/sample - loss: 2.1839e-05\n",
            "Epoch 17/200\n",
            "10/10 [==============================] - 0s 172us/sample - loss: 2.1330e-05\n",
            "Epoch 18/200\n",
            "10/10 [==============================] - 0s 155us/sample - loss: 2.0830e-05\n",
            "Epoch 19/200\n",
            "10/10 [==============================] - 0s 262us/sample - loss: 2.0344e-05\n",
            "Epoch 20/200\n",
            "10/10 [==============================] - 0s 397us/sample - loss: 1.9869e-05\n",
            "Epoch 21/200\n",
            "10/10 [==============================] - 0s 433us/sample - loss: 1.9405e-05\n",
            "Epoch 22/200\n",
            "10/10 [==============================] - 0s 259us/sample - loss: 1.8951e-05\n",
            "Epoch 23/200\n",
            "10/10 [==============================] - 0s 248us/sample - loss: 1.8510e-05\n",
            "Epoch 24/200\n",
            "10/10 [==============================] - 0s 369us/sample - loss: 1.8078e-05\n",
            "Epoch 25/200\n",
            "10/10 [==============================] - 0s 241us/sample - loss: 1.7654e-05\n",
            "Epoch 26/200\n",
            "10/10 [==============================] - 0s 249us/sample - loss: 1.7242e-05\n",
            "Epoch 27/200\n",
            "10/10 [==============================] - 0s 211us/sample - loss: 1.6840e-05\n",
            "Epoch 28/200\n",
            "10/10 [==============================] - 0s 254us/sample - loss: 1.6446e-05\n",
            "Epoch 29/200\n",
            "10/10 [==============================] - 0s 355us/sample - loss: 1.6062e-05\n",
            "Epoch 30/200\n",
            "10/10 [==============================] - 0s 317us/sample - loss: 1.5687e-05\n",
            "Epoch 31/200\n",
            "10/10 [==============================] - 0s 281us/sample - loss: 1.5322e-05\n",
            "Epoch 32/200\n",
            "10/10 [==============================] - 0s 203us/sample - loss: 1.4963e-05\n",
            "Epoch 33/200\n",
            "10/10 [==============================] - 0s 272us/sample - loss: 1.4614e-05\n",
            "Epoch 34/200\n",
            "10/10 [==============================] - 0s 363us/sample - loss: 1.4272e-05\n",
            "Epoch 35/200\n",
            "10/10 [==============================] - 0s 287us/sample - loss: 1.3939e-05\n",
            "Epoch 36/200\n",
            "10/10 [==============================] - 0s 312us/sample - loss: 1.3614e-05\n",
            "Epoch 37/200\n",
            "10/10 [==============================] - 0s 267us/sample - loss: 1.3296e-05\n",
            "Epoch 38/200\n",
            "10/10 [==============================] - 0s 181us/sample - loss: 1.2985e-05\n",
            "Epoch 39/200\n",
            "10/10 [==============================] - 0s 176us/sample - loss: 1.2682e-05\n",
            "Epoch 40/200\n",
            "10/10 [==============================] - 0s 178us/sample - loss: 1.2386e-05\n",
            "Epoch 41/200\n",
            "10/10 [==============================] - 0s 183us/sample - loss: 1.2097e-05\n",
            "Epoch 42/200\n",
            "10/10 [==============================] - 0s 178us/sample - loss: 1.1814e-05\n",
            "Epoch 43/200\n",
            "10/10 [==============================] - 0s 187us/sample - loss: 1.1539e-05\n",
            "Epoch 44/200\n",
            "10/10 [==============================] - 0s 327us/sample - loss: 1.1269e-05\n",
            "Epoch 45/200\n",
            "10/10 [==============================] - 0s 322us/sample - loss: 1.1006e-05\n",
            "Epoch 46/200\n",
            "10/10 [==============================] - 0s 200us/sample - loss: 1.0748e-05\n",
            "Epoch 47/200\n",
            "10/10 [==============================] - 0s 320us/sample - loss: 1.0498e-05\n",
            "Epoch 48/200\n",
            "10/10 [==============================] - 0s 259us/sample - loss: 1.0252e-05\n",
            "Epoch 49/200\n",
            "10/10 [==============================] - 0s 343us/sample - loss: 1.0013e-05\n",
            "Epoch 50/200\n",
            "10/10 [==============================] - 0s 347us/sample - loss: 9.7795e-06\n",
            "Epoch 51/200\n",
            "10/10 [==============================] - 0s 353us/sample - loss: 9.5509e-06\n",
            "Epoch 52/200\n",
            "10/10 [==============================] - 0s 366us/sample - loss: 9.3279e-06\n",
            "Epoch 53/200\n",
            "10/10 [==============================] - 0s 344us/sample - loss: 9.1099e-06\n",
            "Epoch 54/200\n",
            "10/10 [==============================] - 0s 285us/sample - loss: 8.8964e-06\n",
            "Epoch 55/200\n",
            "10/10 [==============================] - 0s 350us/sample - loss: 8.6895e-06\n",
            "Epoch 56/200\n",
            "10/10 [==============================] - 0s 339us/sample - loss: 8.4871e-06\n",
            "Epoch 57/200\n",
            "10/10 [==============================] - 0s 316us/sample - loss: 8.2880e-06\n",
            "Epoch 58/200\n",
            "10/10 [==============================] - 0s 239us/sample - loss: 8.0945e-06\n",
            "Epoch 59/200\n",
            "10/10 [==============================] - 0s 289us/sample - loss: 7.9054e-06\n",
            "Epoch 60/200\n",
            "10/10 [==============================] - 0s 274us/sample - loss: 7.7205e-06\n",
            "Epoch 61/200\n",
            "10/10 [==============================] - 0s 252us/sample - loss: 7.5407e-06\n",
            "Epoch 62/200\n",
            "10/10 [==============================] - 0s 245us/sample - loss: 7.3647e-06\n",
            "Epoch 63/200\n",
            "10/10 [==============================] - 0s 246us/sample - loss: 7.1929e-06\n",
            "Epoch 64/200\n",
            "10/10 [==============================] - 0s 291us/sample - loss: 7.0247e-06\n",
            "Epoch 65/200\n",
            "10/10 [==============================] - 0s 273us/sample - loss: 6.8601e-06\n",
            "Epoch 66/200\n",
            "10/10 [==============================] - 0s 294us/sample - loss: 6.6999e-06\n",
            "Epoch 67/200\n",
            "10/10 [==============================] - 0s 271us/sample - loss: 6.5432e-06\n",
            "Epoch 68/200\n",
            "10/10 [==============================] - 0s 263us/sample - loss: 6.3904e-06\n",
            "Epoch 69/200\n",
            "10/10 [==============================] - 0s 295us/sample - loss: 6.2413e-06\n",
            "Epoch 70/200\n",
            "10/10 [==============================] - 0s 270us/sample - loss: 6.0954e-06\n",
            "Epoch 71/200\n",
            "10/10 [==============================] - 0s 286us/sample - loss: 5.9532e-06\n",
            "Epoch 72/200\n",
            "10/10 [==============================] - 0s 288us/sample - loss: 5.8138e-06\n",
            "Epoch 73/200\n",
            "10/10 [==============================] - 0s 268us/sample - loss: 5.6783e-06\n",
            "Epoch 74/200\n",
            "10/10 [==============================] - 0s 553us/sample - loss: 5.5462e-06\n",
            "Epoch 75/200\n",
            "10/10 [==============================] - 0s 279us/sample - loss: 5.4158e-06\n",
            "Epoch 76/200\n",
            "10/10 [==============================] - 0s 315us/sample - loss: 5.2902e-06\n",
            "Epoch 77/200\n",
            "10/10 [==============================] - 0s 341us/sample - loss: 5.1657e-06\n",
            "Epoch 78/200\n",
            "10/10 [==============================] - 0s 287us/sample - loss: 5.0459e-06\n",
            "Epoch 79/200\n",
            "10/10 [==============================] - 0s 153us/sample - loss: 4.9273e-06\n",
            "Epoch 80/200\n",
            "10/10 [==============================] - 0s 159us/sample - loss: 4.8124e-06\n",
            "Epoch 81/200\n",
            "10/10 [==============================] - 0s 222us/sample - loss: 4.7004e-06\n",
            "Epoch 82/200\n",
            "10/10 [==============================] - 0s 175us/sample - loss: 4.5905e-06\n",
            "Epoch 83/200\n",
            "10/10 [==============================] - 0s 172us/sample - loss: 4.4833e-06\n",
            "Epoch 84/200\n",
            "10/10 [==============================] - 0s 229us/sample - loss: 4.3782e-06\n",
            "Epoch 85/200\n",
            "10/10 [==============================] - 0s 217us/sample - loss: 4.2767e-06\n",
            "Epoch 86/200\n",
            "10/10 [==============================] - 0s 190us/sample - loss: 4.1767e-06\n",
            "Epoch 87/200\n",
            "10/10 [==============================] - 0s 173us/sample - loss: 4.0783e-06\n",
            "Epoch 88/200\n",
            "10/10 [==============================] - 0s 257us/sample - loss: 3.9837e-06\n",
            "Epoch 89/200\n",
            "10/10 [==============================] - 0s 223us/sample - loss: 3.8903e-06\n",
            "Epoch 90/200\n",
            "10/10 [==============================] - 0s 249us/sample - loss: 3.7996e-06\n",
            "Epoch 91/200\n",
            "10/10 [==============================] - 0s 254us/sample - loss: 3.7110e-06\n",
            "Epoch 92/200\n",
            "10/10 [==============================] - 0s 292us/sample - loss: 3.6245e-06\n",
            "Epoch 93/200\n",
            "10/10 [==============================] - 0s 333us/sample - loss: 3.5395e-06\n",
            "Epoch 94/200\n",
            "10/10 [==============================] - 0s 186us/sample - loss: 3.4567e-06\n",
            "Epoch 95/200\n",
            "10/10 [==============================] - 0s 174us/sample - loss: 3.3761e-06\n",
            "Epoch 96/200\n",
            "10/10 [==============================] - 0s 204us/sample - loss: 3.2974e-06\n",
            "Epoch 97/200\n",
            "10/10 [==============================] - 0s 178us/sample - loss: 3.2200e-06\n",
            "Epoch 98/200\n",
            "10/10 [==============================] - 0s 166us/sample - loss: 3.1455e-06\n",
            "Epoch 99/200\n",
            "10/10 [==============================] - 0s 194us/sample - loss: 3.0715e-06\n",
            "Epoch 100/200\n",
            "10/10 [==============================] - 0s 219us/sample - loss: 2.9997e-06\n",
            "Epoch 101/200\n",
            "10/10 [==============================] - 0s 234us/sample - loss: 2.9300e-06\n",
            "Epoch 102/200\n",
            "10/10 [==============================] - 0s 213us/sample - loss: 2.8612e-06\n",
            "Epoch 103/200\n",
            "10/10 [==============================] - 0s 187us/sample - loss: 2.7947e-06\n",
            "Epoch 104/200\n",
            "10/10 [==============================] - 0s 267us/sample - loss: 2.7294e-06\n",
            "Epoch 105/200\n",
            "10/10 [==============================] - 0s 252us/sample - loss: 2.6654e-06\n",
            "Epoch 106/200\n",
            "10/10 [==============================] - 0s 351us/sample - loss: 2.6030e-06\n",
            "Epoch 107/200\n",
            "10/10 [==============================] - 0s 404us/sample - loss: 2.5421e-06\n",
            "Epoch 108/200\n",
            "10/10 [==============================] - 0s 312us/sample - loss: 2.4827e-06\n",
            "Epoch 109/200\n",
            "10/10 [==============================] - 0s 346us/sample - loss: 2.4246e-06\n",
            "Epoch 110/200\n",
            "10/10 [==============================] - 0s 330us/sample - loss: 2.3680e-06\n",
            "Epoch 111/200\n",
            "10/10 [==============================] - 0s 328us/sample - loss: 2.3128e-06\n",
            "Epoch 112/200\n",
            "10/10 [==============================] - 0s 287us/sample - loss: 2.2587e-06\n",
            "Epoch 113/200\n",
            "10/10 [==============================] - 0s 322us/sample - loss: 2.2058e-06\n",
            "Epoch 114/200\n",
            "10/10 [==============================] - 0s 357us/sample - loss: 2.1549e-06\n",
            "Epoch 115/200\n",
            "10/10 [==============================] - 0s 337us/sample - loss: 2.1045e-06\n",
            "Epoch 116/200\n",
            "10/10 [==============================] - 0s 272us/sample - loss: 2.0550e-06\n",
            "Epoch 117/200\n",
            "10/10 [==============================] - 0s 285us/sample - loss: 2.0072e-06\n",
            "Epoch 118/200\n",
            "10/10 [==============================] - 0s 298us/sample - loss: 1.9601e-06\n",
            "Epoch 119/200\n",
            "10/10 [==============================] - 0s 339us/sample - loss: 1.9143e-06\n",
            "Epoch 120/200\n",
            "10/10 [==============================] - 0s 335us/sample - loss: 1.8697e-06\n",
            "Epoch 121/200\n",
            "10/10 [==============================] - 0s 293us/sample - loss: 1.8258e-06\n",
            "Epoch 122/200\n",
            "10/10 [==============================] - 0s 288us/sample - loss: 1.7836e-06\n",
            "Epoch 123/200\n",
            "10/10 [==============================] - 0s 284us/sample - loss: 1.7418e-06\n",
            "Epoch 124/200\n",
            "10/10 [==============================] - 0s 337us/sample - loss: 1.7010e-06\n",
            "Epoch 125/200\n",
            "10/10 [==============================] - 0s 322us/sample - loss: 1.6614e-06\n",
            "Epoch 126/200\n",
            "10/10 [==============================] - 0s 406us/sample - loss: 1.6224e-06\n",
            "Epoch 127/200\n",
            "10/10 [==============================] - 0s 469us/sample - loss: 1.5848e-06\n",
            "Epoch 128/200\n",
            "10/10 [==============================] - 0s 255us/sample - loss: 1.5478e-06\n",
            "Epoch 129/200\n",
            "10/10 [==============================] - 0s 259us/sample - loss: 1.5115e-06\n",
            "Epoch 130/200\n",
            "10/10 [==============================] - 0s 322us/sample - loss: 1.4761e-06\n",
            "Epoch 131/200\n",
            "10/10 [==============================] - 0s 327us/sample - loss: 1.4419e-06\n",
            "Epoch 132/200\n",
            "10/10 [==============================] - 0s 335us/sample - loss: 1.4081e-06\n",
            "Epoch 133/200\n",
            "10/10 [==============================] - 0s 320us/sample - loss: 1.3755e-06\n",
            "Epoch 134/200\n",
            "10/10 [==============================] - 0s 284us/sample - loss: 1.3430e-06\n",
            "Epoch 135/200\n",
            "10/10 [==============================] - 0s 321us/sample - loss: 1.3116e-06\n",
            "Epoch 136/200\n",
            "10/10 [==============================] - 0s 302us/sample - loss: 1.2810e-06\n",
            "Epoch 137/200\n",
            "10/10 [==============================] - 0s 334us/sample - loss: 1.2511e-06\n",
            "Epoch 138/200\n",
            "10/10 [==============================] - 0s 314us/sample - loss: 1.2219e-06\n",
            "Epoch 139/200\n",
            "10/10 [==============================] - 0s 361us/sample - loss: 1.1935e-06\n",
            "Epoch 140/200\n",
            "10/10 [==============================] - 0s 356us/sample - loss: 1.1656e-06\n",
            "Epoch 141/200\n",
            "10/10 [==============================] - 0s 325us/sample - loss: 1.1380e-06\n",
            "Epoch 142/200\n",
            "10/10 [==============================] - 0s 321us/sample - loss: 1.1115e-06\n",
            "Epoch 143/200\n",
            "10/10 [==============================] - 0s 316us/sample - loss: 1.0854e-06\n",
            "Epoch 144/200\n",
            "10/10 [==============================] - 0s 321us/sample - loss: 1.0604e-06\n",
            "Epoch 145/200\n",
            "10/10 [==============================] - 0s 507us/sample - loss: 1.0354e-06\n",
            "Epoch 146/200\n",
            "10/10 [==============================] - 0s 279us/sample - loss: 1.0113e-06\n",
            "Epoch 147/200\n",
            "10/10 [==============================] - 0s 336us/sample - loss: 9.8767e-07\n",
            "Epoch 148/200\n",
            "10/10 [==============================] - 0s 346us/sample - loss: 9.6450e-07\n",
            "Epoch 149/200\n",
            "10/10 [==============================] - 0s 297us/sample - loss: 9.4205e-07\n",
            "Epoch 150/200\n",
            "10/10 [==============================] - 0s 282us/sample - loss: 9.2017e-07\n",
            "Epoch 151/200\n",
            "10/10 [==============================] - 0s 195us/sample - loss: 8.9846e-07\n",
            "Epoch 152/200\n",
            "10/10 [==============================] - 0s 201us/sample - loss: 8.7753e-07\n",
            "Epoch 153/200\n",
            "10/10 [==============================] - 0s 225us/sample - loss: 8.5690e-07\n",
            "Epoch 154/200\n",
            "10/10 [==============================] - 0s 184us/sample - loss: 8.3717e-07\n",
            "Epoch 155/200\n",
            "10/10 [==============================] - 0s 181us/sample - loss: 8.1742e-07\n",
            "Epoch 156/200\n",
            "10/10 [==============================] - 0s 239us/sample - loss: 7.9851e-07\n",
            "Epoch 157/200\n",
            "10/10 [==============================] - 0s 251us/sample - loss: 7.7974e-07\n",
            "Epoch 158/200\n",
            "10/10 [==============================] - 0s 362us/sample - loss: 7.6146e-07\n",
            "Epoch 159/200\n",
            "10/10 [==============================] - 0s 344us/sample - loss: 7.4381e-07\n",
            "Epoch 160/200\n",
            "10/10 [==============================] - 0s 327us/sample - loss: 7.2643e-07\n",
            "Epoch 161/200\n",
            "10/10 [==============================] - 0s 406us/sample - loss: 7.0945e-07\n",
            "Epoch 162/200\n",
            "10/10 [==============================] - 0s 291us/sample - loss: 6.9307e-07\n",
            "Epoch 163/200\n",
            "10/10 [==============================] - 0s 369us/sample - loss: 6.7672e-07\n",
            "Epoch 164/200\n",
            "10/10 [==============================] - 0s 336us/sample - loss: 6.6080e-07\n",
            "Epoch 165/200\n",
            "10/10 [==============================] - 0s 360us/sample - loss: 6.4539e-07\n",
            "Epoch 166/200\n",
            "10/10 [==============================] - 0s 325us/sample - loss: 6.3043e-07\n",
            "Epoch 167/200\n",
            "10/10 [==============================] - 0s 328us/sample - loss: 6.1587e-07\n",
            "Epoch 168/200\n",
            "10/10 [==============================] - 0s 344us/sample - loss: 6.0126e-07\n",
            "Epoch 169/200\n",
            "10/10 [==============================] - 0s 316us/sample - loss: 5.8749e-07\n",
            "Epoch 170/200\n",
            "10/10 [==============================] - 0s 287us/sample - loss: 5.7356e-07\n",
            "Epoch 171/200\n",
            "10/10 [==============================] - 0s 334us/sample - loss: 5.6034e-07\n",
            "Epoch 172/200\n",
            "10/10 [==============================] - 0s 300us/sample - loss: 5.4711e-07\n",
            "Epoch 173/200\n",
            "10/10 [==============================] - 0s 411us/sample - loss: 5.3446e-07\n",
            "Epoch 174/200\n",
            "10/10 [==============================] - 0s 323us/sample - loss: 5.2172e-07\n",
            "Epoch 175/200\n",
            "10/10 [==============================] - 0s 338us/sample - loss: 5.0960e-07\n",
            "Epoch 176/200\n",
            "10/10 [==============================] - 0s 336us/sample - loss: 4.9771e-07\n",
            "Epoch 177/200\n",
            "10/10 [==============================] - 0s 341us/sample - loss: 4.8615e-07\n",
            "Epoch 178/200\n",
            "10/10 [==============================] - 0s 364us/sample - loss: 4.7485e-07\n",
            "Epoch 179/200\n",
            "10/10 [==============================] - 0s 312us/sample - loss: 4.6380e-07\n",
            "Epoch 180/200\n",
            "10/10 [==============================] - 0s 347us/sample - loss: 4.5284e-07\n",
            "Epoch 181/200\n",
            "10/10 [==============================] - 0s 316us/sample - loss: 4.4209e-07\n",
            "Epoch 182/200\n",
            "10/10 [==============================] - 0s 328us/sample - loss: 4.3192e-07\n",
            "Epoch 183/200\n",
            "10/10 [==============================] - 0s 332us/sample - loss: 4.2183e-07\n",
            "Epoch 184/200\n",
            "10/10 [==============================] - 0s 361us/sample - loss: 4.1193e-07\n",
            "Epoch 185/200\n",
            "10/10 [==============================] - 0s 335us/sample - loss: 4.0233e-07\n",
            "Epoch 186/200\n",
            "10/10 [==============================] - 0s 326us/sample - loss: 3.9287e-07\n",
            "Epoch 187/200\n",
            "10/10 [==============================] - 0s 343us/sample - loss: 3.8367e-07\n",
            "Epoch 188/200\n",
            "10/10 [==============================] - 0s 339us/sample - loss: 3.7473e-07\n",
            "Epoch 189/200\n",
            "10/10 [==============================] - 0s 329us/sample - loss: 3.6604e-07\n",
            "Epoch 190/200\n",
            "10/10 [==============================] - 0s 346us/sample - loss: 3.5741e-07\n",
            "Epoch 191/200\n",
            "10/10 [==============================] - 0s 339us/sample - loss: 3.4922e-07\n",
            "Epoch 192/200\n",
            "10/10 [==============================] - 0s 325us/sample - loss: 3.4093e-07\n",
            "Epoch 193/200\n",
            "10/10 [==============================] - 0s 317us/sample - loss: 3.3313e-07\n",
            "Epoch 194/200\n",
            "10/10 [==============================] - 0s 315us/sample - loss: 3.2528e-07\n",
            "Epoch 195/200\n",
            "10/10 [==============================] - 0s 402us/sample - loss: 3.1760e-07\n",
            "Epoch 196/200\n",
            "10/10 [==============================] - 0s 300us/sample - loss: 3.1017e-07\n",
            "Epoch 197/200\n",
            "10/10 [==============================] - 0s 304us/sample - loss: 3.0294e-07\n",
            "Epoch 198/200\n",
            "10/10 [==============================] - 0s 377us/sample - loss: 2.9594e-07\n",
            "Epoch 199/200\n",
            "10/10 [==============================] - 0s 307us/sample - loss: 2.8886e-07\n",
            "Epoch 200/200\n",
            "10/10 [==============================] - 0s 296us/sample - loss: 2.8224e-07\n"
          ],
          "name": "stdout"
        },
        {
          "output_type": "execute_result",
          "data": {
            "text/plain": [
              "<tensorflow.python.keras.callbacks.History at 0x7f12000bfd30>"
            ]
          },
          "metadata": {
            "tags": []
          },
          "execution_count": 16
        }
      ]
    },
    {
      "cell_type": "code",
      "metadata": {
        "id": "g5Ghl0U3Eshs",
        "colab_type": "code",
        "colab": {
          "base_uri": "https://localhost:8080/",
          "height": 34
        },
        "outputId": "dde7f1cd-abdc-47b5-f78e-3c74d105a35c"
      },
      "source": [
        "print(model.predict([-10.0]))"
      ],
      "execution_count": 17,
      "outputs": [
        {
          "output_type": "stream",
          "text": [
            "[[-19.001505]]\n"
          ],
          "name": "stdout"
        }
      ]
    },
    {
      "cell_type": "code",
      "metadata": {
        "id": "hmVHIW9AFULs",
        "colab_type": "code",
        "colab": {}
      },
      "source": [
        "model.fit(xs, ys, epochs=1000)"
      ],
      "execution_count": 0,
      "outputs": []
    },
    {
      "cell_type": "code",
      "metadata": {
        "id": "YudFU0uSFgIC",
        "colab_type": "code",
        "colab": {
          "base_uri": "https://localhost:8080/",
          "height": 34
        },
        "outputId": "297e08ab-4cb9-4a57-81a0-97dc30a1b3f2"
      },
      "source": [
        "print(model.predict([-10.0]))"
      ],
      "execution_count": 19,
      "outputs": [
        {
          "output_type": "stream",
          "text": [
            "[[-19.000006]]\n"
          ],
          "name": "stdout"
        }
      ]
    },
    {
      "cell_type": "code",
      "metadata": {
        "id": "ymMbFzzsFmJV",
        "colab_type": "code",
        "colab": {
          "base_uri": "https://localhost:8080/",
          "height": 34
        },
        "outputId": "55d312ba-af3c-4a23-ad79-197e94b5fa4a"
      },
      "source": [
        "print(model.predict([-10.0])) #most fit epochs 450-500"
      ],
      "execution_count": 22,
      "outputs": [
        {
          "output_type": "stream",
          "text": [
            "[[-19.000006]]\n"
          ],
          "name": "stdout"
        }
      ]
    },
    {
      "cell_type": "markdown",
      "metadata": {
        "id": "BkIEHQwoGKMX",
        "colab_type": "text"
      },
      "source": [
        "##Feeding more data"
      ]
    },
    {
      "cell_type": "code",
      "metadata": {
        "id": "ZYuriQ9oFrUN",
        "colab_type": "code",
        "colab": {}
      },
      "source": [
        "xs = np.array([-15.0, -12.0, -10.0, -8.5, -7.0, -5.0, -4.5, -3.0, -1.0, 0.0, 1.0, 2.0, 4.0, 5.0, 7.0, 9.0, 10.0, 13.5, 17.0, 19.8], dtype=float)"
      ],
      "execution_count": 0,
      "outputs": []
    },
    {
      "cell_type": "code",
      "metadata": {
        "id": "v2ey-qStGe87",
        "colab_type": "code",
        "colab": {}
      },
      "source": [
        "ys = np.array([-29.0, -23.0, -19.0, -16.0, -13.0, -9.0, -8.0, -5.0, -1.0, 1.0, 3.0, 5.0, 9.0, 11.0, 15.0, 19.0, 21.0, 28.0, 35.0, 40.6], dtype=float)"
      ],
      "execution_count": 0,
      "outputs": []
    },
    {
      "cell_type": "code",
      "metadata": {
        "id": "GsVzifG7G-QP",
        "colab_type": "code",
        "colab": {}
      },
      "source": [
        "model.fit(xs, ys, epochs=500)"
      ],
      "execution_count": 0,
      "outputs": []
    },
    {
      "cell_type": "code",
      "metadata": {
        "id": "w9dekncoHCmO",
        "colab_type": "code",
        "colab": {
          "base_uri": "https://localhost:8080/",
          "height": 34
        },
        "outputId": "aedb4d47-fdf5-4e22-deec-3b8850f96f9b"
      },
      "source": [
        "print(model.predict([-10.0]))"
      ],
      "execution_count": 27,
      "outputs": [
        {
          "output_type": "stream",
          "text": [
            "[[-19.000004]]\n"
          ],
          "name": "stdout"
        }
      ]
    },
    {
      "cell_type": "code",
      "metadata": {
        "id": "--QMGPLJHIWM",
        "colab_type": "code",
        "colab": {}
      },
      "source": [
        "#feeding twice bigger num of data, performance improved. "
      ],
      "execution_count": 0,
      "outputs": []
    },
    {
      "cell_type": "code",
      "metadata": {
        "id": "DTnLdWVQHYDZ",
        "colab_type": "code",
        "colab": {}
      },
      "source": [
        ""
      ],
      "execution_count": 0,
      "outputs": []
    }
  ]
}