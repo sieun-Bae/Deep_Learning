{
  "nbformat": 4,
  "nbformat_minor": 0,
  "metadata": {
    "colab": {
      "name": "Tokenizer.ipynb",
      "provenance": [],
      "collapsed_sections": [],
      "include_colab_link": true
    },
    "kernelspec": {
      "name": "python3",
      "display_name": "Python 3"
    },
    "accelerator": "GPU"
  },
  "cells": [
    {
      "cell_type": "markdown",
      "metadata": {
        "id": "view-in-github",
        "colab_type": "text"
      },
      "source": [
        "<a href=\"https://colab.research.google.com/github/sieun-Bae/deep-learning/blob/master/Tokenizer.ipynb\" target=\"_parent\"><img src=\"https://colab.research.google.com/assets/colab-badge.svg\" alt=\"Open In Colab\"/></a>"
      ]
    },
    {
      "cell_type": "markdown",
      "metadata": {
        "id": "vDTrKwQkhafH",
        "colab_type": "text"
      },
      "source": [
        "### Tokenizer"
      ]
    },
    {
      "cell_type": "code",
      "metadata": {
        "id": "RZPR2hiGhL9Y",
        "colab_type": "code",
        "colab": {}
      },
      "source": [
        "import tensorflow as tf\n",
        "from tensorflow import keras\n",
        "from tensorflow.keras.preprocessing.text import Tokenizer"
      ],
      "execution_count": 0,
      "outputs": []
    },
    {
      "cell_type": "code",
      "metadata": {
        "id": "kt-Zphnthl5n",
        "colab_type": "code",
        "colab": {}
      },
      "source": [
        "train_data = [\n",
        "              \"I love Deep Learning\",\n",
        "              \"i, am learning deep\"\n",
        "]"
      ],
      "execution_count": 0,
      "outputs": []
    },
    {
      "cell_type": "code",
      "metadata": {
        "id": "e8DyGSYhlKqI",
        "colab_type": "code",
        "colab": {}
      },
      "source": [
        "tokenizer = Tokenizer(num_words=100)"
      ],
      "execution_count": 0,
      "outputs": []
    },
    {
      "cell_type": "code",
      "metadata": {
        "id": "oa22QhaJlPos",
        "colab_type": "code",
        "colab": {}
      },
      "source": [
        "tokenizer.fit_on_texts(train_data)\n",
        "word_index = tokenizer.word_index"
      ],
      "execution_count": 0,
      "outputs": []
    },
    {
      "cell_type": "code",
      "metadata": {
        "id": "H8JMOk_slYnN",
        "colab_type": "code",
        "colab": {
          "base_uri": "https://localhost:8080/",
          "height": 34
        },
        "outputId": "40d23904-a4cb-4334-e338-16e3c37d7500"
      },
      "source": [
        "print(word_index)"
      ],
      "execution_count": 58,
      "outputs": [
        {
          "output_type": "stream",
          "text": [
            "{'i': 1, 'deep': 2, 'learning': 3, 'love': 4, 'am': 5}\n"
          ],
          "name": "stdout"
        }
      ]
    },
    {
      "cell_type": "code",
      "metadata": {
        "id": "5UkLuoDHlfKN",
        "colab_type": "code",
        "colab": {}
      },
      "source": [
        "train_data = [\n",
        "              \"I love Deep Learning\",\n",
        "              \"i, am learning deep\",\n",
        "              \"You love deep learning?\"\n",
        "]"
      ],
      "execution_count": 0,
      "outputs": []
    },
    {
      "cell_type": "code",
      "metadata": {
        "id": "FvCS8_a_lsT0",
        "colab_type": "code",
        "colab": {}
      },
      "source": [
        "tokenizer = Tokenizer(num_words=100)\n",
        "tokenizer.fit_on_texts(train_data)\n",
        "word_index = tokenizer.word_index"
      ],
      "execution_count": 0,
      "outputs": []
    },
    {
      "cell_type": "code",
      "metadata": {
        "id": "rlomUlM9mAlV",
        "colab_type": "code",
        "colab": {
          "base_uri": "https://localhost:8080/",
          "height": 34
        },
        "outputId": "c5348694-a8dd-4765-89ae-11207b266e5f"
      },
      "source": [
        "print(word_index)"
      ],
      "execution_count": 61,
      "outputs": [
        {
          "output_type": "stream",
          "text": [
            "{'deep': 1, 'learning': 2, 'i': 3, 'love': 4, 'am': 5, 'you': 6}\n"
          ],
          "name": "stdout"
        }
      ]
    },
    {
      "cell_type": "code",
      "metadata": {
        "id": "hH5IkkOCmICT",
        "colab_type": "code",
        "colab": {}
      },
      "source": [
        "test_data = [\n",
        "             \"i really love deep learning\",\n",
        "             \"my dog loves python\"\n",
        "]"
      ],
      "execution_count": 0,
      "outputs": []
    },
    {
      "cell_type": "markdown",
      "metadata": {
        "id": "glolH-DKnAb9",
        "colab_type": "text"
      },
      "source": [
        "#### sequences"
      ]
    },
    {
      "cell_type": "code",
      "metadata": {
        "id": "yHQKY7k0mebc",
        "colab_type": "code",
        "colab": {}
      },
      "source": [
        "sequences = tokenizer.texts_to_sequences(train_data)"
      ],
      "execution_count": 0,
      "outputs": []
    },
    {
      "cell_type": "code",
      "metadata": {
        "id": "OK3FodSFm4qd",
        "colab_type": "code",
        "colab": {
          "base_uri": "https://localhost:8080/",
          "height": 34
        },
        "outputId": "aca553ea-a4b6-48a1-ee6a-157c0e2e9ce7"
      },
      "source": [
        "print(sequences)"
      ],
      "execution_count": 64,
      "outputs": [
        {
          "output_type": "stream",
          "text": [
            "[[3, 4, 1, 2], [3, 5, 2, 1], [6, 4, 1, 2]]\n"
          ],
          "name": "stdout"
        }
      ]
    },
    {
      "cell_type": "code",
      "metadata": {
        "id": "CVduhDDim8rB",
        "colab_type": "code",
        "colab": {}
      },
      "source": [
        "test_seq = tokenizer.texts_to_sequences(test_data)"
      ],
      "execution_count": 0,
      "outputs": []
    },
    {
      "cell_type": "code",
      "metadata": {
        "id": "Unqz7fHjnGS8",
        "colab_type": "code",
        "colab": {
          "base_uri": "https://localhost:8080/",
          "height": 34
        },
        "outputId": "978b0ffa-1ae0-459d-a05d-c679742b5a0b"
      },
      "source": [
        "print(test_seq)"
      ],
      "execution_count": 66,
      "outputs": [
        {
          "output_type": "stream",
          "text": [
            "[[3, 4, 1, 2], []]\n"
          ],
          "name": "stdout"
        }
      ]
    },
    {
      "cell_type": "markdown",
      "metadata": {
        "id": "C92qnSPUnYU_",
        "colab_type": "text"
      },
      "source": [
        "==> \n",
        "word python doesn't exist, so it lost"
      ]
    },
    {
      "cell_type": "markdown",
      "metadata": {
        "id": "p2hXvyHnn6U2",
        "colab_type": "text"
      },
      "source": [
        "#### OOV token"
      ]
    },
    {
      "cell_type": "code",
      "metadata": {
        "id": "j0EGCvZKnTjy",
        "colab_type": "code",
        "colab": {
          "base_uri": "https://localhost:8080/",
          "height": 51
        },
        "outputId": "ec5f8651-3a74-4de4-ae3f-e1fc853fb158"
      },
      "source": [
        "tokenizer = Tokenizer(num_words=100, oov_token=\"<OOV>\")\n",
        "tokenizer.fit_on_texts(train_data)\n",
        "word_index = tokenizer.word_index\n",
        "#print(word_index)\n",
        "sequences = tokenizer.texts_to_sequences(train_data)\n",
        "print(sequences)"
      ],
      "execution_count": 70,
      "outputs": [
        {
          "output_type": "stream",
          "text": [
            "{'<OOV>': 1, 'deep': 2, 'learning': 3, 'i': 4, 'love': 5, 'am': 6, 'you': 7}\n",
            "[[4, 5, 2, 3], [4, 6, 3, 2], [7, 5, 2, 3]]\n"
          ],
          "name": "stdout"
        }
      ]
    },
    {
      "cell_type": "code",
      "metadata": {
        "id": "QJ5KQh7HoK6l",
        "colab_type": "code",
        "colab": {}
      },
      "source": [
        "test_seq = tokenizer.texts_to_sequences(test_data)"
      ],
      "execution_count": 0,
      "outputs": []
    },
    {
      "cell_type": "code",
      "metadata": {
        "id": "WiZqrqA3oNm8",
        "colab_type": "code",
        "colab": {
          "base_uri": "https://localhost:8080/",
          "height": 34
        },
        "outputId": "c709309f-838d-4768-b5e7-183bfa5423e0"
      },
      "source": [
        "print(test_seq) #<OOV> : 1"
      ],
      "execution_count": 71,
      "outputs": [
        {
          "output_type": "stream",
          "text": [
            "[[4, 1, 5, 2, 3], [1, 1, 1, 1]]\n"
          ],
          "name": "stdout"
        }
      ]
    },
    {
      "cell_type": "markdown",
      "metadata": {
        "id": "2MEzSeCeovAG",
        "colab_type": "text"
      },
      "source": [
        "### Padding"
      ]
    },
    {
      "cell_type": "code",
      "metadata": {
        "id": "81RueoH8ow0S",
        "colab_type": "code",
        "colab": {}
      },
      "source": [
        "from tensorflow.keras.preprocessing.text import Tokenizer\n",
        "from tensorflow.keras.preprocessing.sequence import pad_sequences"
      ],
      "execution_count": 0,
      "outputs": []
    },
    {
      "cell_type": "code",
      "metadata": {
        "id": "eUv0AAEBo2cG",
        "colab_type": "code",
        "colab": {}
      },
      "source": [
        "train_data.append(\"Do you think deep learning is amazing?\")\n",
        "train_data.append(\"My dog is still deep learning\")"
      ],
      "execution_count": 0,
      "outputs": []
    },
    {
      "cell_type": "code",
      "metadata": {
        "id": "FptTut8ypb4U",
        "colab_type": "code",
        "colab": {
          "base_uri": "https://localhost:8080/",
          "height": 34
        },
        "outputId": "e8321da3-7df2-4e84-d2b6-80cdce1ceae8"
      },
      "source": [
        "tokenizer = Tokenizer(num_words=100, oov_token=\"<OOV>\")\n",
        "tokenizer.fit_on_texts(train_data)\n",
        "word_index = tokenizer.word_index\n",
        "sequences = tokenizer.texts_to_sequences(train_data)\n",
        "print(sequences)"
      ],
      "execution_count": 45,
      "outputs": [
        {
          "output_type": "stream",
          "text": [
            "[[4, 6, 2, 3], [4, 7, 3, 2], [8, 9, 10, 2, 3, 5, 11], [12, 13, 5, 14, 2, 3]]\n"
          ],
          "name": "stdout"
        }
      ]
    },
    {
      "cell_type": "code",
      "metadata": {
        "id": "YgtZbykdppI8",
        "colab_type": "code",
        "colab": {}
      },
      "source": [
        "train_padded = pad_sequences(sequences)"
      ],
      "execution_count": 0,
      "outputs": []
    },
    {
      "cell_type": "code",
      "metadata": {
        "id": "DzLz9huGptZK",
        "colab_type": "code",
        "colab": {
          "base_uri": "https://localhost:8080/",
          "height": 85
        },
        "outputId": "69471022-a125-4953-9b8a-9db04063aefe"
      },
      "source": [
        "print(train_padded)"
      ],
      "execution_count": 49,
      "outputs": [
        {
          "output_type": "stream",
          "text": [
            "[[ 0  0  0  4  6  2  3]\n",
            " [ 0  0  0  4  7  3  2]\n",
            " [ 8  9 10  2  3  5 11]\n",
            " [ 0 12 13  5 14  2  3]]\n"
          ],
          "name": "stdout"
        }
      ]
    },
    {
      "cell_type": "code",
      "metadata": {
        "id": "KLj-jC_4puXy",
        "colab_type": "code",
        "colab": {
          "base_uri": "https://localhost:8080/",
          "height": 51
        },
        "outputId": "4c377fd4-2bc0-4e1c-cc7c-ad59faa586ff"
      },
      "source": [
        "test_seq = tokenizer.texts_to_sequences(test_data)\n",
        "test_padded = pad_sequences(test_seq)\n",
        "print(test_padded)"
      ],
      "execution_count": 50,
      "outputs": [
        {
          "output_type": "stream",
          "text": [
            "[[ 4  1  6  2  3]\n",
            " [ 0 12 13  1  1]]\n"
          ],
          "name": "stdout"
        }
      ]
    },
    {
      "cell_type": "code",
      "metadata": {
        "id": "U5OXRLhNp7gI",
        "colab_type": "code",
        "colab": {
          "base_uri": "https://localhost:8080/",
          "height": 119
        },
        "outputId": "f6aea05f-e441-42ac-f873-e5b599198bbd"
      },
      "source": [
        "train_padded = pad_sequences(sequences, padding='post')\n",
        "test_padded = pad_sequences(test_seq, padding='post')\n",
        "print(train_padded)\n",
        "print(test_padded)"
      ],
      "execution_count": 52,
      "outputs": [
        {
          "output_type": "stream",
          "text": [
            "[[ 4  6  2  3  0  0  0]\n",
            " [ 4  7  3  2  0  0  0]\n",
            " [ 8  9 10  2  3  5 11]\n",
            " [12 13  5 14  2  3  0]]\n",
            "[[ 4  1  6  2  3]\n",
            " [12 13  1  1  0]]\n"
          ],
          "name": "stdout"
        }
      ]
    },
    {
      "cell_type": "code",
      "metadata": {
        "id": "DBWenVUpqQO4",
        "colab_type": "code",
        "colab": {
          "base_uri": "https://localhost:8080/",
          "height": 119
        },
        "outputId": "5d662dc7-42b1-4fde-83e9-35425601c597"
      },
      "source": [
        "train_padded = pad_sequences(sequences, padding='post', truncating='post', maxlen=5)\n",
        "test_padded = pad_sequences(test_seq, padding='post', truncating='post', maxlen=5)\n",
        "print(train_padded)\n",
        "print(test_padded)"
      ],
      "execution_count": 53,
      "outputs": [
        {
          "output_type": "stream",
          "text": [
            "[[ 4  6  2  3  0]\n",
            " [ 4  7  3  2  0]\n",
            " [ 8  9 10  2  3]\n",
            " [12 13  5 14  2]]\n",
            "[[ 4  1  6  2  3]\n",
            " [12 13  1  1  0]]\n"
          ],
          "name": "stdout"
        }
      ]
    },
    {
      "cell_type": "code",
      "metadata": {
        "id": "FmmbGc4DqcPc",
        "colab_type": "code",
        "colab": {}
      },
      "source": [
        ""
      ],
      "execution_count": 0,
      "outputs": []
    }
  ]
}