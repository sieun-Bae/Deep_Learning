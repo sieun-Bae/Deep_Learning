{
  "nbformat": 4,
  "nbformat_minor": 0,
  "metadata": {
    "colab": {
      "name": "Convolutions_Fashion MNIST.ipynb",
      "provenance": [],
      "include_colab_link": true
    },
    "kernelspec": {
      "name": "python3",
      "display_name": "Python 3"
    },
    "accelerator": "GPU"
  },
  "cells": [
    {
      "cell_type": "markdown",
      "metadata": {
        "id": "view-in-github",
        "colab_type": "text"
      },
      "source": [
        "<a href=\"https://colab.research.google.com/github/sieun-Bae/Deep_Learning/blob/master/Convolutions_Fashion_MNIST.ipynb\" target=\"_parent\"><img src=\"https://colab.research.google.com/assets/colab-badge.svg\" alt=\"Open In Colab\"/></a>"
      ]
    },
    {
      "cell_type": "markdown",
      "metadata": {
        "id": "fl5L0mNESPb2",
        "colab_type": "text"
      },
      "source": [
        "## Defining Convolutions and Pooling layers for Fashion MNIST Classifier"
      ]
    },
    {
      "cell_type": "code",
      "metadata": {
        "id": "yYbANu3dSUlV",
        "colab_type": "code",
        "colab": {}
      },
      "source": [
        "import tensorflow as tf"
      ],
      "execution_count": 0,
      "outputs": []
    },
    {
      "cell_type": "code",
      "metadata": {
        "id": "zd6qI_0WSVR6",
        "colab_type": "code",
        "colab": {}
      },
      "source": [
        "mnist = tf.keras.datasets.fashion_mnist\n",
        "(training_images, training_labels), (test_images, test_labels) = mnist.load_data()"
      ],
      "execution_count": 0,
      "outputs": []
    },
    {
      "cell_type": "markdown",
      "metadata": {
        "id": "GbcYPEgqSptZ",
        "colab_type": "text"
      },
      "source": [
        "'''\n",
        "Convolution layer expects a single tensor containing everything,\n",
        "so reshape the data in a single 4D list that is 60,000 * 28 * 28 * 1\n",
        "'''"
      ]
    },
    {
      "cell_type": "code",
      "metadata": {
        "id": "F0fFBVnkSijJ",
        "colab_type": "code",
        "colab": {}
      },
      "source": [
        "training_images = training_images.reshape(60000, 28, 28, 1)\n",
        "training_images = training_images / 255.0 #greyscale"
      ],
      "execution_count": 0,
      "outputs": []
    },
    {
      "cell_type": "code",
      "metadata": {
        "id": "alDNFTsySpCh",
        "colab_type": "code",
        "colab": {}
      },
      "source": [
        "test_images = test_images.reshape(10000, 28, 28, 1)\n",
        "test_images = test_images / 255.0"
      ],
      "execution_count": 0,
      "outputs": []
    },
    {
      "cell_type": "code",
      "metadata": {
        "id": "awyzd8kWTG8p",
        "colab_type": "code",
        "colab": {}
      },
      "source": [
        "model = tf.keras.models.Sequential([\n",
        "    tf.keras.layers.Conv2D(64, (3, 3), activation = 'relu', input_shape = (28, 28, 1)),\n",
        "    tf.keras.layers.MaxPooling2D(2, 2),\n",
        "    tf.keras.layers.Conv2D(64, (3, 3), activation = 'relu'),\n",
        "    tf.keras.layers.MaxPool2D(2, 2),\n",
        "    tf.keras.layers.Flatten(),\n",
        "    tf.keras.layers.Dense(128, activation = 'relu'),\n",
        "    tf.keras.layers.Dense(10, activation = 'softmax')\n",
        "])"
      ],
      "execution_count": 0,
      "outputs": []
    },
    {
      "cell_type": "code",
      "metadata": {
        "id": "IJlS_zahU2iA",
        "colab_type": "code",
        "colab": {}
      },
      "source": [
        "model.compile(optimizer = 'adam', loss='sparse_categorical_crossentropy', metrics=['accuracy'])"
      ],
      "execution_count": 0,
      "outputs": []
    },
    {
      "cell_type": "code",
      "metadata": {
        "id": "Jtc-7L-EVcOW",
        "colab_type": "code",
        "colab": {
          "base_uri": "https://localhost:8080/",
          "height": 391
        },
        "outputId": "e911aa13-81e6-4d12-ae00-60a98032bc05"
      },
      "source": [
        "model.summary()"
      ],
      "execution_count": 17,
      "outputs": [
        {
          "output_type": "stream",
          "text": [
            "Model: \"sequential\"\n",
            "_________________________________________________________________\n",
            "Layer (type)                 Output Shape              Param #   \n",
            "=================================================================\n",
            "conv2d_2 (Conv2D)            (None, 26, 26, 64)        640       \n",
            "_________________________________________________________________\n",
            "max_pooling2d_2 (MaxPooling2 (None, 13, 13, 64)        0         \n",
            "_________________________________________________________________\n",
            "conv2d_3 (Conv2D)            (None, 11, 11, 64)        36928     \n",
            "_________________________________________________________________\n",
            "max_pooling2d_3 (MaxPooling2 (None, 5, 5, 64)          0         \n",
            "_________________________________________________________________\n",
            "flatten (Flatten)            (None, 1600)              0         \n",
            "_________________________________________________________________\n",
            "dense (Dense)                (None, 128)               204928    \n",
            "_________________________________________________________________\n",
            "dense_1 (Dense)              (None, 10)                1290      \n",
            "=================================================================\n",
            "Total params: 243,786\n",
            "Trainable params: 243,786\n",
            "Non-trainable params: 0\n",
            "_________________________________________________________________\n"
          ],
          "name": "stdout"
        }
      ]
    },
    {
      "cell_type": "code",
      "metadata": {
        "id": "4TXu8IDAVdVp",
        "colab_type": "code",
        "colab": {
          "base_uri": "https://localhost:8080/",
          "height": 204
        },
        "outputId": "999b859b-faa7-47a1-99e6-9ac8af25ac3a"
      },
      "source": [
        "model.fit(training_images, training_labels, epochs = 5)"
      ],
      "execution_count": 18,
      "outputs": [
        {
          "output_type": "stream",
          "text": [
            "Epoch 1/5\n",
            "60000/60000 [==============================] - 10s 158us/sample - loss: 0.4357 - acc: 0.8402\n",
            "Epoch 2/5\n",
            "60000/60000 [==============================] - 6s 92us/sample - loss: 0.2943 - acc: 0.8907\n",
            "Epoch 3/5\n",
            "60000/60000 [==============================] - 6s 98us/sample - loss: 0.2464 - acc: 0.9089\n",
            "Epoch 4/5\n",
            "60000/60000 [==============================] - 6s 101us/sample - loss: 0.2126 - acc: 0.9208\n",
            "Epoch 5/5\n",
            "60000/60000 [==============================] - 6s 95us/sample - loss: 0.1864 - acc: 0.9299\n"
          ],
          "name": "stdout"
        },
        {
          "output_type": "execute_result",
          "data": {
            "text/plain": [
              "<tensorflow.python.keras.callbacks.History at 0x7f516cc10668>"
            ]
          },
          "metadata": {
            "tags": []
          },
          "execution_count": 18
        }
      ]
    },
    {
      "cell_type": "code",
      "metadata": {
        "id": "vamBvXvQVgpY",
        "colab_type": "code",
        "colab": {
          "base_uri": "https://localhost:8080/",
          "height": 34
        },
        "outputId": "03e5fab1-c1a7-43c3-f4a8-048197244096"
      },
      "source": [
        "testl_loss = model.evaluate(test_images, test_labels)"
      ],
      "execution_count": 19,
      "outputs": [
        {
          "output_type": "stream",
          "text": [
            "10000/10000 [==============================] - 1s 58us/sample - loss: 0.2557 - acc: 0.9074\n"
          ],
          "name": "stdout"
        }
      ]
    },
    {
      "cell_type": "markdown",
      "metadata": {
        "id": "Hp3UAO9UVzx8",
        "colab_type": "text"
      },
      "source": [
        "### => accuracy better(0.88 -> 0.93) take longer"
      ]
    },
    {
      "cell_type": "markdown",
      "metadata": {
        "id": "cc7cqq7nWdhe",
        "colab_type": "text"
      },
      "source": [
        "''' fileter size to 5*5"
      ]
    },
    {
      "cell_type": "code",
      "metadata": {
        "id": "oF-F2iCUVt8J",
        "colab_type": "code",
        "colab": {}
      },
      "source": [
        " model = tf.keras.models.Sequential([\n",
        "    tf.keras.layers.Conv2D(64, (5, 5), activation = 'relu', input_shape = (28, 28, 1)),\n",
        "    tf.keras.layers.MaxPooling2D(2, 2),\n",
        "    tf.keras.layers.Conv2D(64, (5, 5), activation = 'relu'),\n",
        "    tf.keras.layers.MaxPool2D(2, 2),\n",
        "    tf.keras.layers.Flatten(),\n",
        "    tf.keras.layers.Dense(128, activation = 'relu'),\n",
        "    tf.keras.layers.Dense(10, activation = 'softmax')\n",
        "])"
      ],
      "execution_count": 0,
      "outputs": []
    },
    {
      "cell_type": "code",
      "metadata": {
        "id": "t6_DHRW-Wopc",
        "colab_type": "code",
        "colab": {}
      },
      "source": [
        "model.compile(optimizer = 'adam', loss='sparse_categorical_crossentropy', metrics=['accuracy'])"
      ],
      "execution_count": 0,
      "outputs": []
    },
    {
      "cell_type": "code",
      "metadata": {
        "id": "llyQFbXJWoso",
        "colab_type": "code",
        "colab": {
          "base_uri": "https://localhost:8080/",
          "height": 391
        },
        "outputId": "84cf4a1d-b41b-4bfa-8b16-4556f2157ef7"
      },
      "source": [
        "model.summary()"
      ],
      "execution_count": 25,
      "outputs": [
        {
          "output_type": "stream",
          "text": [
            "Model: \"sequential_1\"\n",
            "_________________________________________________________________\n",
            "Layer (type)                 Output Shape              Param #   \n",
            "=================================================================\n",
            "conv2d_4 (Conv2D)            (None, 24, 24, 64)        1664      \n",
            "_________________________________________________________________\n",
            "max_pooling2d_4 (MaxPooling2 (None, 12, 12, 64)        0         \n",
            "_________________________________________________________________\n",
            "conv2d_5 (Conv2D)            (None, 8, 8, 64)          102464    \n",
            "_________________________________________________________________\n",
            "max_pooling2d_5 (MaxPooling2 (None, 4, 4, 64)          0         \n",
            "_________________________________________________________________\n",
            "flatten_1 (Flatten)          (None, 1024)              0         \n",
            "_________________________________________________________________\n",
            "dense_2 (Dense)              (None, 128)               131200    \n",
            "_________________________________________________________________\n",
            "dense_3 (Dense)              (None, 10)                1290      \n",
            "=================================================================\n",
            "Total params: 236,618\n",
            "Trainable params: 236,618\n",
            "Non-trainable params: 0\n",
            "_________________________________________________________________\n"
          ],
          "name": "stdout"
        }
      ]
    },
    {
      "cell_type": "code",
      "metadata": {
        "id": "ymEo2t2EWtV7",
        "colab_type": "code",
        "colab": {
          "base_uri": "https://localhost:8080/",
          "height": 204
        },
        "outputId": "18235fe2-dc0f-4078-f2b9-7c79e59f5387"
      },
      "source": [
        "model.fit(training_images, training_labels, epochs = 5)"
      ],
      "execution_count": 26,
      "outputs": [
        {
          "output_type": "stream",
          "text": [
            "Epoch 1/5\n",
            "60000/60000 [==============================] - 6s 103us/sample - loss: 0.4602 - acc: 0.8331\n",
            "Epoch 2/5\n",
            "60000/60000 [==============================] - 6s 99us/sample - loss: 0.3015 - acc: 0.8902\n",
            "Epoch 3/5\n",
            "60000/60000 [==============================] - 6s 97us/sample - loss: 0.2571 - acc: 0.9053\n",
            "Epoch 4/5\n",
            "60000/60000 [==============================] - 6s 101us/sample - loss: 0.2250 - acc: 0.9167\n",
            "Epoch 5/5\n",
            "60000/60000 [==============================] - 6s 104us/sample - loss: 0.2005 - acc: 0.9252\n"
          ],
          "name": "stdout"
        },
        {
          "output_type": "execute_result",
          "data": {
            "text/plain": [
              "<tensorflow.python.keras.callbacks.History at 0x7f516c793390>"
            ]
          },
          "metadata": {
            "tags": []
          },
          "execution_count": 26
        }
      ]
    },
    {
      "cell_type": "code",
      "metadata": {
        "id": "BQWB0T6hWvP9",
        "colab_type": "code",
        "colab": {
          "base_uri": "https://localhost:8080/",
          "height": 34
        },
        "outputId": "802fd763-4477-4416-baf7-c2f374411038"
      },
      "source": [
        "test2_loss = model.evaluate(test_images, test_labels)"
      ],
      "execution_count": 27,
      "outputs": [
        {
          "output_type": "stream",
          "text": [
            "10000/10000 [==============================] - 1s 65us/sample - loss: 0.2571 - acc: 0.9089\n"
          ],
          "name": "stdout"
        }
      ]
    },
    {
      "cell_type": "markdown",
      "metadata": {
        "id": "hkOFj10DXL3I",
        "colab_type": "text"
      },
      "source": [
        "more epochs"
      ]
    },
    {
      "cell_type": "code",
      "metadata": {
        "id": "4ayZ555jXHan",
        "colab_type": "code",
        "colab": {}
      },
      "source": [
        " model = tf.keras.models.Sequential([\n",
        "    tf.keras.layers.Conv2D(64, (3, 3), activation = 'relu', input_shape = (28, 28, 1)),\n",
        "    tf.keras.layers.MaxPooling2D(2, 2),\n",
        "    tf.keras.layers.Conv2D(64, (3, 3), activation = 'relu'),\n",
        "    tf.keras.layers.MaxPool2D(2, 2),\n",
        "    tf.keras.layers.Flatten(),\n",
        "    tf.keras.layers.Dense(128, activation = 'relu'),\n",
        "    tf.keras.layers.Dense(10, activation = 'softmax')\n",
        "])"
      ],
      "execution_count": 0,
      "outputs": []
    },
    {
      "cell_type": "code",
      "metadata": {
        "id": "qJe34P1EXTGU",
        "colab_type": "code",
        "colab": {}
      },
      "source": [
        "model.compile(optimizer = 'adam', loss='sparse_categorical_crossentropy', metrics=['accuracy'])"
      ],
      "execution_count": 0,
      "outputs": []
    },
    {
      "cell_type": "code",
      "metadata": {
        "id": "DNf95I5VXTI5",
        "colab_type": "code",
        "colab": {
          "base_uri": "https://localhost:8080/",
          "height": 391
        },
        "outputId": "48bc5cd3-bc54-455f-b229-e3b4912995e2"
      },
      "source": [
        "model.summary()"
      ],
      "execution_count": 37,
      "outputs": [
        {
          "output_type": "stream",
          "text": [
            "Model: \"sequential_3\"\n",
            "_________________________________________________________________\n",
            "Layer (type)                 Output Shape              Param #   \n",
            "=================================================================\n",
            "conv2d_8 (Conv2D)            (None, 26, 26, 64)        640       \n",
            "_________________________________________________________________\n",
            "max_pooling2d_8 (MaxPooling2 (None, 13, 13, 64)        0         \n",
            "_________________________________________________________________\n",
            "conv2d_9 (Conv2D)            (None, 11, 11, 64)        36928     \n",
            "_________________________________________________________________\n",
            "max_pooling2d_9 (MaxPooling2 (None, 5, 5, 64)          0         \n",
            "_________________________________________________________________\n",
            "flatten_3 (Flatten)          (None, 1600)              0         \n",
            "_________________________________________________________________\n",
            "dense_6 (Dense)              (None, 128)               204928    \n",
            "_________________________________________________________________\n",
            "dense_7 (Dense)              (None, 10)                1290      \n",
            "=================================================================\n",
            "Total params: 243,786\n",
            "Trainable params: 243,786\n",
            "Non-trainable params: 0\n",
            "_________________________________________________________________\n"
          ],
          "name": "stdout"
        }
      ]
    },
    {
      "cell_type": "code",
      "metadata": {
        "id": "uBJy-1XYXTLq",
        "colab_type": "code",
        "colab": {
          "base_uri": "https://localhost:8080/",
          "height": 544
        },
        "outputId": "d53089ac-72ba-4d96-e3ba-a2c5f061e618"
      },
      "source": [
        "model.fit(training_images, training_labels, epochs = 15)"
      ],
      "execution_count": 38,
      "outputs": [
        {
          "output_type": "stream",
          "text": [
            "Epoch 1/15\n",
            "60000/60000 [==============================] - 6s 100us/sample - loss: 0.4394 - acc: 0.8393\n",
            "Epoch 2/15\n",
            "60000/60000 [==============================] - 6s 96us/sample - loss: 0.2963 - acc: 0.8917\n",
            "Epoch 3/15\n",
            "60000/60000 [==============================] - 6s 98us/sample - loss: 0.2516 - acc: 0.9073\n",
            "Epoch 4/15\n",
            "60000/60000 [==============================] - 6s 99us/sample - loss: 0.2188 - acc: 0.9198\n",
            "Epoch 5/15\n",
            "60000/60000 [==============================] - 6s 100us/sample - loss: 0.1930 - acc: 0.9275\n",
            "Epoch 6/15\n",
            "60000/60000 [==============================] - 6s 100us/sample - loss: 0.1710 - acc: 0.9364\n",
            "Epoch 7/15\n",
            "60000/60000 [==============================] - 6s 96us/sample - loss: 0.1525 - acc: 0.9421\n",
            "Epoch 8/15\n",
            "60000/60000 [==============================] - 6s 95us/sample - loss: 0.1328 - acc: 0.9504\n",
            "Epoch 9/15\n",
            "60000/60000 [==============================] - 6s 95us/sample - loss: 0.1172 - acc: 0.9559\n",
            "Epoch 10/15\n",
            "60000/60000 [==============================] - 6s 97us/sample - loss: 0.1045 - acc: 0.9600\n",
            "Epoch 11/15\n",
            "60000/60000 [==============================] - 6s 98us/sample - loss: 0.0907 - acc: 0.9658\n",
            "Epoch 12/15\n",
            "60000/60000 [==============================] - 6s 99us/sample - loss: 0.0811 - acc: 0.9690\n",
            "Epoch 13/15\n",
            "60000/60000 [==============================] - 6s 97us/sample - loss: 0.0721 - acc: 0.9722\n",
            "Epoch 14/15\n",
            "60000/60000 [==============================] - 6s 98us/sample - loss: 0.0654 - acc: 0.9751\n",
            "Epoch 15/15\n",
            "60000/60000 [==============================] - 6s 96us/sample - loss: 0.0585 - acc: 0.9784\n"
          ],
          "name": "stdout"
        },
        {
          "output_type": "execute_result",
          "data": {
            "text/plain": [
              "<tensorflow.python.keras.callbacks.History at 0x7f514e1fd6a0>"
            ]
          },
          "metadata": {
            "tags": []
          },
          "execution_count": 38
        }
      ]
    },
    {
      "cell_type": "code",
      "metadata": {
        "id": "2RnWrEq2XWik",
        "colab_type": "code",
        "colab": {
          "base_uri": "https://localhost:8080/",
          "height": 34
        },
        "outputId": "d424ac75-640e-4444-dd73-2879af4f2821"
      },
      "source": [
        "test3_loss = model.evaluate(test_images, test_labels)"
      ],
      "execution_count": 40,
      "outputs": [
        {
          "output_type": "stream",
          "text": [
            "10000/10000 [==============================] - 1s 57us/sample - loss: 0.3933 - acc: 0.9088\n"
          ],
          "name": "stdout"
        }
      ]
    },
    {
      "cell_type": "code",
      "metadata": {
        "id": "bboJ8B2vX1ZV",
        "colab_type": "code",
        "colab": {}
      },
      "source": [
        ""
      ],
      "execution_count": 0,
      "outputs": []
    }
  ]
}